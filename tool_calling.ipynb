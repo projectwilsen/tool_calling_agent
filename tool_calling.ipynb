{
 "cells": [
  {
   "cell_type": "markdown",
   "metadata": {},
   "source": [
    "# Understand the Basic of Tool Calling"
   ]
  },
  {
   "cell_type": "markdown",
   "metadata": {},
   "source": [
    "Import libraries, env, and llm model"
   ]
  },
  {
   "cell_type": "code",
   "execution_count": 45,
   "metadata": {},
   "outputs": [],
   "source": [
    "from langchain_core.tools import tool\n",
    "from langchain_groq import ChatGroq\n",
    "from langchain_openai import ChatOpenAI\n",
    "from langchain_core.messages import HumanMessage, ToolMessage\n",
    "import os\n",
    "from dotenv import load_dotenv\n",
    "load_dotenv()\n",
    "\n",
    "groq_api_key = os.getenv(\"GROQ_API_KEY\")\n",
    "rapid_api_key = os.getenv(\"RAPID_API_KEY\")\n",
    "llm = ChatGroq(temperature=0, model_name=\"llama3-70b-8192\", groq_api_key = groq_api_key)\n",
    "llm2 = ChatOpenAI(model_name = \"gpt-3.5-turbo\", temperature = 0)"
   ]
  },
  {
   "cell_type": "markdown",
   "metadata": {},
   "source": [
    "Define tools"
   ]
  },
  {
   "cell_type": "code",
   "execution_count": 57,
   "metadata": {},
   "outputs": [],
   "source": [
    "@tool\n",
    "def say_hi(name:str) -> str:\n",
    "   \"Use this tool to greet people\"\n",
    "   return f\"Hi {name}\"\n",
    "\n",
    "@tool\n",
    "def say_bye(name:str) -> str:\n",
    "   \"Use this tool to bid farewell to people\"\n",
    "   return f\"Bye {name}\"\n",
    "\n",
    "tools = [say_hi, say_bye]\n",
    "llm_with_tools = llm.bind_tools(tools)"
   ]
  },
  {
   "cell_type": "code",
   "execution_count": 58,
   "metadata": {},
   "outputs": [],
   "source": [
    "query = \"My sister named Gisel is coming to my house, what should I say?\""
   ]
  },
  {
   "cell_type": "code",
   "execution_count": 59,
   "metadata": {},
   "outputs": [
    {
     "data": {
      "text/plain": [
       "[HumanMessage(content='My sister named Gisel is coming to my house, what should I say?')]"
      ]
     },
     "execution_count": 59,
     "metadata": {},
     "output_type": "execute_result"
    }
   ],
   "source": [
    "messages = [(HumanMessage(query))]\n",
    "messages"
   ]
  },
  {
   "cell_type": "code",
   "execution_count": 60,
   "metadata": {},
   "outputs": [
    {
     "data": {
      "text/plain": [
       "[HumanMessage(content='My sister named Gisel is coming to my house, what should I say?'),\n",
       " AIMessage(content='', additional_kwargs={'tool_calls': [{'id': 'call_h3e5', 'function': {'arguments': '{\"name\":\"Gisel\"}', 'name': 'say_hi'}, 'type': 'function'}]}, response_metadata={'token_usage': {'completion_time': 0.125714286, 'completion_tokens': 44, 'prompt_time': 0.199227426, 'prompt_tokens': 914, 'queue_time': None, 'total_time': 0.324941712, 'total_tokens': 958}, 'model_name': 'llama3-70b-8192', 'system_fingerprint': 'fp_87cbfbbc4d', 'finish_reason': 'tool_calls', 'logprobs': None}, id='run-44e208e6-6ff5-4c9f-aee5-579edc1eb21a-0', tool_calls=[{'name': 'say_hi', 'args': {'name': 'Gisel'}, 'id': 'call_h3e5'}])]"
      ]
     },
     "execution_count": 60,
     "metadata": {},
     "output_type": "execute_result"
    }
   ],
   "source": [
    "output = llm_with_tools.invoke(messages)\n",
    "messages.append(output)\n",
    "messages"
   ]
  },
  {
   "cell_type": "markdown",
   "metadata": {},
   "source": [
    "Based on the latest langchain update, we can access tool_calls ( to access which tool is going to be used, and what is the argument)"
   ]
  },
  {
   "cell_type": "code",
   "execution_count": 61,
   "metadata": {},
   "outputs": [
    {
     "name": "stdout",
     "output_type": "stream",
     "text": [
      "[{'name': 'say_hi', 'args': {'name': 'Gisel'}, 'id': 'call_h3e5'}]\n",
      "selected tool: say_hi\n",
      "argument that will be passed to the tool: {'name': 'Gisel'}\n"
     ]
    }
   ],
   "source": [
    "tool_calls = output.tool_calls\n",
    "print(tool_calls)\n",
    "print('selected tool:', tool_calls[0]['name'])\n",
    "print('argument that will be passed to the tool:', tool_calls[0]['args'])"
   ]
  },
  {
   "cell_type": "code",
   "execution_count": 62,
   "metadata": {},
   "outputs": [
    {
     "name": "stdout",
     "output_type": "stream",
     "text": [
      "Hi Gisel\n"
     ]
    }
   ],
   "source": [
    "tool_mapping = {'say_hi':say_hi, 'say_bye': say_bye} # mapping between tool name and defined tool function\n",
    "selected_tool = tool_mapping[tool_calls[0]['name']] # used to get the selected tool\n",
    "tool_output = selected_tool.invoke(tool_calls[0]['args']) # invoke the selected tool with the argument\n",
    "print(tool_output)"
   ]
  },
  {
   "cell_type": "code",
   "execution_count": 63,
   "metadata": {},
   "outputs": [
    {
     "data": {
      "text/plain": [
       "[HumanMessage(content='My sister named Gisel is coming to my house, what should I say?'),\n",
       " AIMessage(content='', additional_kwargs={'tool_calls': [{'id': 'call_h3e5', 'function': {'arguments': '{\"name\":\"Gisel\"}', 'name': 'say_hi'}, 'type': 'function'}]}, response_metadata={'token_usage': {'completion_time': 0.125714286, 'completion_tokens': 44, 'prompt_time': 0.199227426, 'prompt_tokens': 914, 'queue_time': None, 'total_time': 0.324941712, 'total_tokens': 958}, 'model_name': 'llama3-70b-8192', 'system_fingerprint': 'fp_87cbfbbc4d', 'finish_reason': 'tool_calls', 'logprobs': None}, id='run-44e208e6-6ff5-4c9f-aee5-579edc1eb21a-0', tool_calls=[{'name': 'say_hi', 'args': {'name': 'Gisel'}, 'id': 'call_h3e5'}]),\n",
       " ToolMessage(content='Hi Gisel', tool_call_id='call_h3e5')]"
      ]
     },
     "execution_count": 63,
     "metadata": {},
     "output_type": "execute_result"
    }
   ],
   "source": [
    "messages.append(ToolMessage(tool_output, tool_call_id = tool_calls[0]['id']))\n",
    "messages"
   ]
  },
  {
   "cell_type": "code",
   "execution_count": 64,
   "metadata": {},
   "outputs": [
    {
     "data": {
      "text/plain": [
       "AIMessage(content='You can simply respond with the result: Hi Gisel', response_metadata={'token_usage': {'completion_time': 0.034285714, 'completion_tokens': 12, 'prompt_time': 0.158173437, 'prompt_tokens': 982, 'queue_time': None, 'total_time': 0.192459151, 'total_tokens': 994}, 'model_name': 'llama3-70b-8192', 'system_fingerprint': 'fp_753a4aecf6', 'finish_reason': 'stop', 'logprobs': None}, id='run-2924aed6-5318-42b7-86f0-ccd0c415fd4f-0')"
      ]
     },
     "execution_count": 64,
     "metadata": {},
     "output_type": "execute_result"
    }
   ],
   "source": [
    "output = llm_with_tools.invoke(messages)\n",
    "output"
   ]
  },
  {
   "cell_type": "code",
   "execution_count": 69,
   "metadata": {},
   "outputs": [
    {
     "data": {
      "text/plain": [
       "'You can simply respond with the result: Hi Gisel'"
      ]
     },
     "execution_count": 69,
     "metadata": {},
     "output_type": "execute_result"
    }
   ],
   "source": [
    "output.content"
   ]
  },
  {
   "cell_type": "markdown",
   "metadata": {},
   "source": [
    "# create_tool_calling_agent"
   ]
  },
  {
   "cell_type": "code",
   "execution_count": 68,
   "metadata": {},
   "outputs": [
    {
     "name": "stdout",
     "output_type": "stream",
     "text": [
      "Question: My sister named Gisel is coming to my house, what should I say?\n",
      "Answer: You can say \"Hi Gisel\" to your sister when she arrives at your house.\n"
     ]
    }
   ],
   "source": [
    "from langchain.agents import create_tool_calling_agent, AgentExecutor\n",
    "from langchain_core.prompts import ChatPromptTemplate\n",
    "\n",
    "@tool\n",
    "def say_hi(name:str) -> str:\n",
    "   \"Use this tool to greet people\"\n",
    "   return f\"Hi {name}\"\n",
    "\n",
    "@tool\n",
    "def say_bye(name:str) -> str:\n",
    "   \"Use this tool to bid farewell to people\"\n",
    "   return f\"Bye {name}\"\n",
    "\n",
    "tools = [say_hi, say_bye]\n",
    "\n",
    "# Define the prompt \n",
    "prompt = ChatPromptTemplate.from_messages([\n",
    "    (\"system\", \"you're a helpful assistant\"),\n",
    "    (\"human\", \"{input}\"),\n",
    "    (\"placeholder\", \"{agent_scratchpad}\"),\n",
    "])\n",
    "\n",
    "agent = create_tool_calling_agent(llm, tools, prompt)\n",
    "agent_executor = AgentExecutor(agent=agent, tools=tools)\n",
    "\n",
    "query = \"My sister named Gisel is coming to my house, what should I say?\"\n",
    "print(\"Question:\", query)\n",
    "result = agent_executor.invoke({\"input\": query})\n",
    "print(\"Answer:\",result['output'])"
   ]
  },
  {
   "cell_type": "markdown",
   "metadata": {},
   "source": [
    "If you want to see what happened inside, we could set verbose = True"
   ]
  },
  {
   "cell_type": "code",
   "execution_count": 70,
   "metadata": {},
   "outputs": [
    {
     "name": "stdout",
     "output_type": "stream",
     "text": [
      "\n",
      "\n",
      "\u001b[1m> Entering new AgentExecutor chain...\u001b[0m\n",
      "\u001b[32;1m\u001b[1;3m\n",
      "Invoking: `say_hi` with `{'name': 'Gisel'}`\n",
      "\n",
      "\n",
      "\u001b[0m\u001b[36;1m\u001b[1;3mHi Gisel\u001b[0m\u001b[32;1m\u001b[1;3mYou can respond directly to your sister: \"Hi Gisel\"\u001b[0m\n",
      "\n",
      "\u001b[1m> Finished chain.\u001b[0m\n"
     ]
    },
    {
     "data": {
      "text/plain": [
       "{'input': 'My sister named Gisel is coming to my house, what should I say?',\n",
       " 'output': 'You can respond directly to your sister: \"Hi Gisel\"'}"
      ]
     },
     "execution_count": 70,
     "metadata": {},
     "output_type": "execute_result"
    }
   ],
   "source": [
    "agent_executor = AgentExecutor(agent=agent, tools=tools, verbose = True)\n",
    "agent_executor.invoke({\"input\": query})"
   ]
  },
  {
   "cell_type": "markdown",
   "metadata": {},
   "source": [
    "Working with real use case"
   ]
  },
  {
   "cell_type": "code",
   "execution_count": 33,
   "metadata": {},
   "outputs": [],
   "source": [
    "import requests\n",
    "import json\n",
    "from langchain.agents import create_tool_calling_agent, AgentExecutor\n",
    "from langchain_core.prompts import ChatPromptTemplate\n",
    "\n",
    "@tool()\n",
    "def get_company_profile(stock:str) -> str:\n",
    "    \"\"\"Get detail profile such as company name, sector name, primary name, number of employees of a stock\"\"\"\n",
    "\n",
    "    api_key = rapid_api_key\n",
    "    url = \"https://seeking-alpha.p.rapidapi.com/symbols/get-profile\"\n",
    "\n",
    "    querystring = {\"symbols\":stock.lower()}\n",
    "\n",
    "    headers = {\n",
    "        \"x-rapidapi-key\": api_key,\n",
    "        \"x-rapidapi-host\": \"seeking-alpha.p.rapidapi.com\"\n",
    "    }\n",
    "\n",
    "    response = requests.get(url, headers=headers, params=querystring)\n",
    "    \n",
    "    if response.status_code == 200:\n",
    "        data = response.json()\n",
    "        result = json.dumps(data)\n",
    "    else:\n",
    "        raise ValueError(f\"No data for {stock}\")\n",
    "    \n",
    "    return result\n",
    "\n",
    "@tool()\n",
    "def get_competitors(stock:str) -> str:\n",
    "    \"\"\"Get peers or competitors of a stock\"\"\"\n",
    "\n",
    "    api_key = rapid_api_key\n",
    "    url = \"https://seeking-alpha.p.rapidapi.com/symbols/get-peers\"\n",
    "\n",
    "    querystring = {\"symbol\":stock.lower()}\n",
    "\n",
    "    headers = {\n",
    "        \"x-rapidapi-key\": api_key,\n",
    "        \"x-rapidapi-host\": \"seeking-alpha.p.rapidapi.com\"\n",
    "    }\n",
    "\n",
    "    response = requests.get(url, headers=headers, params=querystring)\n",
    "    \n",
    "    if response.status_code == 200:\n",
    "        data = response.json()\n",
    "        result = json.dumps(data)\n",
    "    else:\n",
    "        raise ValueError(f\"No data for {stock}\")\n",
    "    \n",
    "    return result\n",
    "\n",
    "prompt = ChatPromptTemplate.from_messages([\n",
    "    (\"system\", \"you're a helpful assistant\"),\n",
    "    (\"human\", \"{input}\"),\n",
    "    (\"placeholder\", \"{agent_scratchpad}\"),\n",
    "])\n",
    "\n",
    "tools = [get_company_profile, get_competitors]\n",
    "agent = create_tool_calling_agent(llm, tools, prompt)\n",
    "agent_executor = AgentExecutor(agent=agent, tools=tools, verbose = True)"
   ]
  },
  {
   "cell_type": "markdown",
   "metadata": {},
   "source": [
    "Note: Different models yield different outputs, so it would be wise to experiment with open-source models if you're exploring. However, for production purposes, I highly suggest using GPT (as far as I've experimented, GPT is still the best in tool calling) or you could also use a fine-tuned model. Let's see the difference below!"
   ]
  },
  {
   "cell_type": "markdown",
   "metadata": {},
   "source": [
    "- Using llama3"
   ]
  },
  {
   "cell_type": "code",
   "execution_count": 24,
   "metadata": {},
   "outputs": [
    {
     "name": "stdout",
     "output_type": "stream",
     "text": [
      "Question: I'm an investor, what is AAPL\n",
      "\n",
      "\n",
      "\u001b[1m> Entering new AgentExecutor chain...\u001b[0m\n",
      "\u001b[32;1m\u001b[1;3m\n",
      "Invoking: `get_company_profile` with `{'stock': 'AAPL'}`\n",
      "\n",
      "\n",
      "\u001b[0m\u001b[36;1m\u001b[1;3m{\"data\": [{\"id\": \"AAPL\", \"tickerId\": 146, \"attributes\": {\"longDesc\": \"Apple Inc. designs, manufactures, and markets smartphones, personal computers, tablets, wearables, and accessories worldwide. The company offers iPhone, a line of smartphones; Mac, a line of personal computers; iPad, a line of multi-purpose tablets; and wearables, home, and accessories comprising AirPods, Apple TV, Apple Watch, Beats products, and HomePod. It also provides AppleCare support and cloud services; and operates various platforms, including the App Store that allow customers to discover and download applications and digital content, such as books, music, video, games, and podcasts. In addition, the company offers various services, such as Apple Arcade, a game subscription service; Apple Fitness+, a personalized fitness service; Apple Music, which offers users a curated listening experience with on-demand radio stations; Apple News+, a subscription news and magazine service; Apple TV+, which offers exclusive original content; Apple Card, a co-branded credit card; and Apple Pay, a cashless payment service, as well as licenses its intellectual property. The company serves consumers, and small and mid-sized businesses; and the education, enterprise, and government markets. It distributes third-party applications for its products through the App Store. The company also sells its products through its retail and online stores, and direct sales force; and third-party cellular network carriers, wholesalers, retailers, and resellers. Apple Inc. was founded in 1976 and is headquartered in Cupertino, California.\", \"sectorname\": \"Information Technology\", \"sectorgics\": 45, \"primaryname\": \"Technology Hardware, Storage and Peripherals\", \"primarygics\": 45202030, \"numberOfEmployees\": 161000.0, \"yearfounded\": 1976, \"streetaddress\": \"One Apple Park Way\", \"streetaddress2\": null, \"streetaddress3\": null, \"streetaddress4\": null, \"city\": \"Cupertino\", \"state\": \"CA\", \"zipcode\": \"95014\", \"country\": \"United States\", \"officephonevalue\": \"408 996 1010\", \"webpage\": \"www.apple.com\", \"companyName\": \"Apple Inc.\", \"marketCap\": 3205896523740.0, \"totalEnterprise\": 3148149523740.0, \"totAnalystsRecommendations\": 44.0, \"fy1UpRevisions\": 26.0, \"fy1DownRevisions\": 14.0, \"divYield\": 0.47, \"eps\": 6.454569, \"lastDaily\": {\"rtTime\": \"2024-06-26T19:59:59.910+00:00\", \"rtSource\": \"RealTimeQuote\", \"last\": 213.25, \"open\": 211.5, \"close\": 213.25, \"low\": 210.64, \"high\": 214.86, \"volume\": 66213186, \"volumeAt\": \"2024-06-26T19:59:59.910+00:00\", \"at\": \"2024-06-27T01:30:25.696-04:00\"}, \"estimateEps\": 6.59271, \"debtEq\": 140.9682, \"totDebtCap\": 58.5007, \"ltDebtEquity\": 123.7714, \"ltDebtCap\": 51.3642, \"totLiabTotAssets\": 78.0107, \"impliedMarketCap\": null, \"shortIntPctFloat\": null, \"divTimeFrame\": \"forward\", \"divRate\": 1.0, \"peRatioFwd\": 32.3463340568598, \"lastClosePriceEarningsRatio\": 32.5672366153751, \"estimateFfo\": null, \"ffoPerShareDiluted\": null, \"dilutedEpsExclExtraItems\": null, \"high52\": null, \"low52\": null}}]}\u001b[0m\u001b[32;1m\u001b[1;3m<|start_header_id|>assistant<|end_header_id|>\n",
      "\n",
      "assistant<|end_header_id|>\n",
      "\n",
      "assistant<|end_header_id|>\n",
      "\n",
      "assistant<|end_header_id|><|start_header_id|>assistant<|end_header_id|>\n",
      "\n",
      "assistant<|end_header_id|><|start_header_id|>assistant<|end_header_id|>\n",
      "\n",
      "assistant\u001b[0m\n",
      "\n",
      "\u001b[1m> Finished chain.\u001b[0m\n",
      "Answer: <|start_header_id|>assistant<|end_header_id|>\n",
      "\n",
      "assistant<|end_header_id|>\n",
      "\n",
      "assistant<|end_header_id|>\n",
      "\n",
      "assistant<|end_header_id|><|start_header_id|>assistant<|end_header_id|>\n",
      "\n",
      "assistant<|end_header_id|><|start_header_id|>assistant<|end_header_id|>\n",
      "\n",
      "assistant\n"
     ]
    }
   ],
   "source": [
    "query = \"I'm an investor, what is AAPL\"\n",
    "print(\"Question:\", query)\n",
    "result = agent_executor.invoke({\"input\": query})\n",
    "print(\"Answer:\",result['output'])"
   ]
  },
  {
   "cell_type": "code",
   "execution_count": 26,
   "metadata": {},
   "outputs": [
    {
     "data": {
      "text/plain": [
       "'<|start_header_id|>assistant<|end_header_id|>\\n\\nassistant<|end_header_id|>\\n\\nassistant<|end_header_id|>\\n\\nassistant<|end_header_id|><|start_header_id|>assistant<|end_header_id|>\\n\\nassistant<|end_header_id|><|start_header_id|>assistant<|end_header_id|>\\n\\nassistant'"
      ]
     },
     "execution_count": 26,
     "metadata": {},
     "output_type": "execute_result"
    }
   ],
   "source": [
    "result['output']"
   ]
  },
  {
   "cell_type": "markdown",
   "metadata": {},
   "source": [
    "- Using gpt-3.5-turbo"
   ]
  },
  {
   "cell_type": "code",
   "execution_count": 29,
   "metadata": {},
   "outputs": [
    {
     "name": "stdout",
     "output_type": "stream",
     "text": [
      "Question: I'm an investor, what is AAPL\n",
      "\n",
      "\n",
      "\u001b[1m> Entering new AgentExecutor chain...\u001b[0m\n",
      "\u001b[32;1m\u001b[1;3m\n",
      "Invoking: `get_company_profile` with `{'stock': 'AAPL'}`\n",
      "\n",
      "\n",
      "\u001b[0m\u001b[36;1m\u001b[1;3m{\"data\": [{\"id\": \"AAPL\", \"tickerId\": 146, \"attributes\": {\"longDesc\": \"Apple Inc. designs, manufactures, and markets smartphones, personal computers, tablets, wearables, and accessories worldwide. The company offers iPhone, a line of smartphones; Mac, a line of personal computers; iPad, a line of multi-purpose tablets; and wearables, home, and accessories comprising AirPods, Apple TV, Apple Watch, Beats products, and HomePod. It also provides AppleCare support and cloud services; and operates various platforms, including the App Store that allow customers to discover and download applications and digital content, such as books, music, video, games, and podcasts. In addition, the company offers various services, such as Apple Arcade, a game subscription service; Apple Fitness+, a personalized fitness service; Apple Music, which offers users a curated listening experience with on-demand radio stations; Apple News+, a subscription news and magazine service; Apple TV+, which offers exclusive original content; Apple Card, a co-branded credit card; and Apple Pay, a cashless payment service, as well as licenses its intellectual property. The company serves consumers, and small and mid-sized businesses; and the education, enterprise, and government markets. It distributes third-party applications for its products through the App Store. The company also sells its products through its retail and online stores, and direct sales force; and third-party cellular network carriers, wholesalers, retailers, and resellers. Apple Inc. was founded in 1976 and is headquartered in Cupertino, California.\", \"sectorname\": \"Information Technology\", \"sectorgics\": 45, \"primaryname\": \"Technology Hardware, Storage and Peripherals\", \"primarygics\": 45202030, \"numberOfEmployees\": 161000.0, \"yearfounded\": 1976, \"streetaddress\": \"One Apple Park Way\", \"streetaddress2\": null, \"streetaddress3\": null, \"streetaddress4\": null, \"city\": \"Cupertino\", \"state\": \"CA\", \"zipcode\": \"95014\", \"country\": \"United States\", \"officephonevalue\": \"408 996 1010\", \"webpage\": \"www.apple.com\", \"companyName\": \"Apple Inc.\", \"marketCap\": 3205896523740.0, \"totalEnterprise\": 3148149523740.0, \"totAnalystsRecommendations\": 44.0, \"fy1UpRevisions\": 26.0, \"fy1DownRevisions\": 14.0, \"divYield\": 0.47, \"eps\": 6.454569, \"lastDaily\": {\"rtTime\": \"2024-06-26T19:59:59.910+00:00\", \"rtSource\": \"RealTimeQuote\", \"last\": 213.25, \"open\": 211.5, \"close\": 213.25, \"low\": 210.64, \"high\": 214.86, \"volume\": 66213186, \"volumeAt\": \"2024-06-26T19:59:59.910+00:00\", \"at\": \"2024-06-27T01:30:25.696-04:00\"}, \"estimateEps\": 6.59271, \"debtEq\": 140.9682, \"totDebtCap\": 58.5007, \"ltDebtEquity\": 123.7714, \"ltDebtCap\": 51.3642, \"totLiabTotAssets\": 78.0107, \"impliedMarketCap\": null, \"shortIntPctFloat\": null, \"divTimeFrame\": \"forward\", \"divRate\": 1.0, \"peRatioFwd\": 32.3463340568598, \"lastClosePriceEarningsRatio\": 32.5672366153751, \"estimateFfo\": null, \"ffoPerShareDiluted\": null, \"dilutedEpsExclExtraItems\": null, \"high52\": null, \"low52\": null}}]}\u001b[0m\u001b[32;1m\u001b[1;3mAAPL is the stock ticker symbol for Apple Inc. Apple designs, manufactures, and markets smartphones, personal computers, tablets, wearables, and accessories worldwide. The company offers a range of products including iPhone, Mac, iPad, AirPods, Apple TV, Apple Watch, Beats products, and HomePod. Apple also provides services such as AppleCare support, cloud services, App Store, Apple Arcade, Apple Fitness+, Apple Music, Apple News+, Apple TV+, Apple Card, and Apple Pay.\n",
      "\n",
      "Here are some key details about Apple Inc.:\n",
      "- Sector: Information Technology\n",
      "- Industry: Technology Hardware, Storage and Peripherals\n",
      "- Number of Employees: 161,000\n",
      "- Year Founded: 1976\n",
      "- Headquarters: Cupertino, California\n",
      "- Website: [www.apple.com](https://www.apple.com)\n",
      "- Market Cap: $3.21 trillion\n",
      "- Last Close Price: $213.25\n",
      "- P/E Ratio (Forward): 32.35\n",
      "\n",
      "If you would like more information or have any specific questions about Apple Inc., feel free to ask!\u001b[0m\n",
      "\n",
      "\u001b[1m> Finished chain.\u001b[0m\n",
      "Answer: AAPL is the stock ticker symbol for Apple Inc. Apple designs, manufactures, and markets smartphones, personal computers, tablets, wearables, and accessories worldwide. The company offers a range of products including iPhone, Mac, iPad, AirPods, Apple TV, Apple Watch, Beats products, and HomePod. Apple also provides services such as AppleCare support, cloud services, App Store, Apple Arcade, Apple Fitness+, Apple Music, Apple News+, Apple TV+, Apple Card, and Apple Pay.\n",
      "\n",
      "Here are some key details about Apple Inc.:\n",
      "- Sector: Information Technology\n",
      "- Industry: Technology Hardware, Storage and Peripherals\n",
      "- Number of Employees: 161,000\n",
      "- Year Founded: 1976\n",
      "- Headquarters: Cupertino, California\n",
      "- Website: [www.apple.com](https://www.apple.com)\n",
      "- Market Cap: $3.21 trillion\n",
      "- Last Close Price: $213.25\n",
      "- P/E Ratio (Forward): 32.35\n",
      "\n",
      "If you would like more information or have any specific questions about Apple Inc., feel free to ask!\n"
     ]
    }
   ],
   "source": [
    "query = \"I'm an investor, what is AAPL\"\n",
    "print(\"Question:\", query)\n",
    "result = agent_executor.invoke({\"input\": query})\n",
    "print(\"Answer:\",result['output'])"
   ]
  },
  {
   "cell_type": "code",
   "execution_count": 31,
   "metadata": {},
   "outputs": [
    {
     "name": "stdout",
     "output_type": "stream",
     "text": [
      "AAPL is the stock ticker symbol for Apple Inc. Apple designs, manufactures, and markets smartphones, personal computers, tablets, wearables, and accessories worldwide. The company offers a range of products including iPhone, Mac, iPad, AirPods, Apple TV, Apple Watch, Beats products, and HomePod. Apple also provides services such as AppleCare support, cloud services, App Store, Apple Arcade, Apple Fitness+, Apple Music, Apple News+, Apple TV+, Apple Card, and Apple Pay.\n",
      "\n",
      "Here are some key details about Apple Inc.:\n",
      "- Sector: Information Technology\n",
      "- Industry: Technology Hardware, Storage and Peripherals\n",
      "- Number of Employees: 161,000\n",
      "- Year Founded: 1976\n",
      "- Headquarters: Cupertino, California\n",
      "- Website: [www.apple.com](https://www.apple.com)\n",
      "- Market Cap: $3.21 trillion\n",
      "- Last Close Price: $213.25\n",
      "- P/E Ratio (Forward): 32.35\n",
      "\n",
      "If you would like more information or have any specific questions about Apple Inc., feel free to ask!\n"
     ]
    }
   ],
   "source": [
    "print(result['output'])"
   ]
  },
  {
   "cell_type": "code",
   "execution_count": 34,
   "metadata": {},
   "outputs": [
    {
     "name": "stdout",
     "output_type": "stream",
     "text": [
      "Question: I'm an investor, give me information about AAPL, and also give me the peers\n",
      "\n",
      "\n",
      "\u001b[1m> Entering new AgentExecutor chain...\u001b[0m\n",
      "\u001b[32;1m\u001b[1;3m\n",
      "Invoking: `get_company_profile` with `{'stock': 'AAPL'}`\n",
      "\n",
      "\n",
      "\u001b[0m\u001b[36;1m\u001b[1;3m{\"data\": [{\"id\": \"AAPL\", \"tickerId\": 146, \"attributes\": {\"longDesc\": \"Apple Inc. designs, manufactures, and markets smartphones, personal computers, tablets, wearables, and accessories worldwide. The company offers iPhone, a line of smartphones; Mac, a line of personal computers; iPad, a line of multi-purpose tablets; and wearables, home, and accessories comprising AirPods, Apple TV, Apple Watch, Beats products, and HomePod. It also provides AppleCare support and cloud services; and operates various platforms, including the App Store that allow customers to discover and download applications and digital content, such as books, music, video, games, and podcasts. In addition, the company offers various services, such as Apple Arcade, a game subscription service; Apple Fitness+, a personalized fitness service; Apple Music, which offers users a curated listening experience with on-demand radio stations; Apple News+, a subscription news and magazine service; Apple TV+, which offers exclusive original content; Apple Card, a co-branded credit card; and Apple Pay, a cashless payment service, as well as licenses its intellectual property. The company serves consumers, and small and mid-sized businesses; and the education, enterprise, and government markets. It distributes third-party applications for its products through the App Store. The company also sells its products through its retail and online stores, and direct sales force; and third-party cellular network carriers, wholesalers, retailers, and resellers. Apple Inc. was founded in 1976 and is headquartered in Cupertino, California.\", \"sectorname\": \"Information Technology\", \"sectorgics\": 45, \"primaryname\": \"Technology Hardware, Storage and Peripherals\", \"primarygics\": 45202030, \"numberOfEmployees\": 161000.0, \"yearfounded\": 1976, \"streetaddress\": \"One Apple Park Way\", \"streetaddress2\": null, \"streetaddress3\": null, \"streetaddress4\": null, \"city\": \"Cupertino\", \"state\": \"CA\", \"zipcode\": \"95014\", \"country\": \"United States\", \"officephonevalue\": \"408 996 1010\", \"webpage\": \"www.apple.com\", \"companyName\": \"Apple Inc.\", \"marketCap\": 3205896523740.0, \"totalEnterprise\": 3148149523740.0, \"totAnalystsRecommendations\": 44.0, \"fy1UpRevisions\": 26.0, \"fy1DownRevisions\": 14.0, \"divYield\": 0.47, \"eps\": 6.454569, \"lastDaily\": {\"rtTime\": \"2024-06-26T19:59:59.910+00:00\", \"rtSource\": \"RealTimeQuote\", \"last\": 213.25, \"open\": 211.5, \"close\": 213.25, \"low\": 210.64, \"high\": 214.86, \"volume\": 66213186, \"volumeAt\": \"2024-06-26T19:59:59.910+00:00\", \"at\": \"2024-06-27T01:30:25.696-04:00\"}, \"estimateEps\": 6.59271, \"debtEq\": 140.9682, \"totDebtCap\": 58.5007, \"ltDebtEquity\": 123.7714, \"ltDebtCap\": 51.3642, \"totLiabTotAssets\": 78.0107, \"impliedMarketCap\": null, \"shortIntPctFloat\": null, \"divTimeFrame\": \"forward\", \"divRate\": 1.0, \"peRatioFwd\": 32.3463340568598, \"lastClosePriceEarningsRatio\": 32.5672366153751, \"estimateFfo\": null, \"ffoPerShareDiluted\": null, \"dilutedEpsExclExtraItems\": null, \"high52\": null, \"low52\": null}}]}\u001b[0m\u001b[32;1m\u001b[1;3m\n",
      "Invoking: `get_competitors` with `{'stock': 'AAPL'}`\n",
      "\n",
      "\n",
      "\u001b[0m\u001b[33;1m\u001b[1;3m{\"data\": [{\"id\": \"569700\", \"type\": \"ticker\", \"attributes\": {\"slug\": \"dell\", \"iexSlug\": \"dell\", \"name\": \"DELL\", \"companyName\": \"Dell Technologies Inc.\", \"equityType\": \"stocks\", \"indexGroup\": null, \"currency\": \"USD\", \"tradingViewSlug\": \"NYSE:DELL\", \"exchange\": \"NYSE\", \"exchangeDescription\": null, \"company\": \"Dell Technologies Inc.\", \"isBdc\": false, \"visible\": true, \"searchable\": true, \"private\": false, \"pending\": false, \"isDefunct\": false, \"followersCount\": 92184, \"fundTypeId\": 0, \"articleRtaCount\": 8, \"newsRtaCount\": 28, \"divYieldType\": \"forward\", \"primaryEpsConsensusMeanType\": \"normalized\", \"mergedOn\": null, \"isReit\": false}, \"relationships\": {\"sector\": {\"data\": {\"id\": \"45\", \"type\": \"sector\"}}, \"subIndustry\": {\"data\": {\"id\": \"45202030\", \"type\": \"subIndustry\"}}}, \"meta\": {\"companyLogoUrl\": \"https://static.seekingalpha.com/cdn/iex/stable/stock/dell/logo?asImage=true\", \"companyLogoUrlLight\": \"https://static.seekingalpha.com/cdn/s3/company_logos/mark_vector_light/DELL\", \"companyLogoUrlDark\": \"https://static.seekingalpha.com/cdn/s3/company_logos/mark_vector_dark/DELL\"}}, {\"id\": \"584719\", \"type\": \"ticker\", \"attributes\": {\"slug\": \"xiacy\", \"iexSlug\": \"xiacy\", \"name\": \"XIACY\", \"companyName\": \"Xiaomi Corporation\", \"equityType\": \"stocks\", \"indexGroup\": null, \"currency\": \"USD\", \"tradingViewSlug\": \"OTC:XIACY\", \"exchange\": \"Pink Current Info\", \"exchangeDescription\": null, \"company\": \"Xiaomi Corporation\", \"isBdc\": false, \"visible\": true, \"searchable\": true, \"private\": false, \"pending\": false, \"isDefunct\": false, \"followersCount\": 2773, \"fundTypeId\": 8, \"articleRtaCount\": 1, \"newsRtaCount\": 5, \"divYieldType\": null, \"primaryEpsConsensusMeanType\": \"normalized\", \"mergedOn\": null, \"isReit\": false}, \"relationships\": {\"sector\": {\"data\": {\"id\": \"45\", \"type\": \"sector\"}}, \"subIndustry\": {\"data\": {\"id\": \"45202030\", \"type\": \"subIndustry\"}}}, \"meta\": {\"companyLogoUrl\": \"https://static.seekingalpha.com/cdn/iex/stable/stock/xiacy/logo?asImage=true\", \"companyLogoUrlLight\": \"https://static.seekingalpha.com/cdn/s3/company_logos/mark_vector_light/XIACY\", \"companyLogoUrlDark\": \"https://static.seekingalpha.com/cdn/s3/company_logos/mark_vector_dark/XIACY\"}}, {\"id\": \"7098\", \"type\": \"ticker\", \"attributes\": {\"slug\": \"smci\", \"iexSlug\": \"smci\", \"name\": \"SMCI\", \"companyName\": \"Super Micro Computer, Inc.\", \"equityType\": \"stocks\", \"indexGroup\": null, \"currency\": \"USD\", \"tradingViewSlug\": \"NASDAQ:SMCI\", \"exchange\": \"NASDAQ\", \"exchangeDescription\": null, \"company\": \"Super Micro Computer, Inc.\", \"isBdc\": false, \"visible\": true, \"searchable\": true, \"private\": false, \"pending\": false, \"isDefunct\": false, \"followersCount\": 66094, \"fundTypeId\": 0, \"articleRtaCount\": 18, \"newsRtaCount\": 22, \"divYieldType\": null, \"primaryEpsConsensusMeanType\": \"normalized\", \"mergedOn\": null, \"isReit\": false}, \"relationships\": {\"sector\": {\"data\": {\"id\": \"45\", \"type\": \"sector\"}}, \"subIndustry\": {\"data\": {\"id\": \"45202030\", \"type\": \"subIndustry\"}}}, \"meta\": {\"companyLogoUrl\": \"https://static.seekingalpha.com/cdn/iex/stable/stock/smci/logo?asImage=true\", \"companyLogoUrlLight\": \"https://static.seekingalpha.com/cdn/s3/company_logos/mark_vector_light/SMCI\", \"companyLogoUrlDark\": \"https://static.seekingalpha.com/cdn/s3/company_logos/mark_vector_dark/SMCI\"}}, {\"id\": \"933\", \"type\": \"ticker\", \"attributes\": {\"slug\": \"hpq\", \"iexSlug\": \"hpq\", \"name\": \"HPQ\", \"companyName\": \"HP Inc.\", \"equityType\": \"stocks\", \"indexGroup\": null, \"currency\": \"USD\", \"tradingViewSlug\": \"NYSE:HPQ\", \"exchange\": \"NYSE\", \"exchangeDescription\": null, \"company\": \"HP Inc.\", \"isBdc\": false, \"visible\": true, \"searchable\": true, \"private\": false, \"pending\": false, \"isDefunct\": false, \"followersCount\": 130225, \"fundTypeId\": 0, \"articleRtaCount\": 6, \"newsRtaCount\": 9, \"divYieldType\": \"forward\", \"primaryEpsConsensusMeanType\": \"normalized\", \"mergedOn\": null, \"isReit\": false}, \"relationships\": {\"sector\": {\"data\": {\"id\": \"45\", \"type\": \"sector\"}}, \"subIndustry\": {\"data\": {\"id\": \"45202030\", \"type\": \"subIndustry\"}}}, \"meta\": {\"companyLogoUrl\": \"https://static.seekingalpha.com/cdn/iex/stable/stock/hpq/logo?asImage=true\", \"companyLogoUrlLight\": \"https://static.seekingalpha.com/cdn/s3/company_logos/mark_vector_light/HPQ\", \"companyLogoUrlDark\": \"https://static.seekingalpha.com/cdn/s3/company_logos/mark_vector_dark/HPQ\"}}, {\"id\": \"24828\", \"type\": \"ticker\", \"attributes\": {\"slug\": \"fujiy\", \"iexSlug\": \"fujiy\", \"name\": \"FUJIY\", \"companyName\": \"FUJIFILM Holdings Corporation\", \"equityType\": \"stocks\", \"indexGroup\": null, \"currency\": \"USD\", \"tradingViewSlug\": \"OTC:FUJIY\", \"exchange\": \"Pink Limited Info\", \"exchangeDescription\": null, \"company\": \"FUJIFILM Holdings Corporation\", \"isBdc\": false, \"visible\": true, \"searchable\": true, \"private\": false, \"pending\": false, \"isDefunct\": false, \"followersCount\": 1506, \"fundTypeId\": 8, \"articleRtaCount\": 1, \"newsRtaCount\": 1, \"divYieldType\": \"historic\", \"primaryEpsConsensusMeanType\": \"gaap\", \"mergedOn\": null, \"isReit\": false}, \"relationships\": {\"sector\": {\"data\": {\"id\": \"45\", \"type\": \"sector\"}}, \"subIndustry\": {\"data\": {\"id\": \"45202030\", \"type\": \"subIndustry\"}}}, \"meta\": {\"companyLogoUrl\": \"https://static.seekingalpha.com/cdn/iex/stable/stock/fujiy/logo?asImage=true\", \"companyLogoUrlLight\": \"https://static.seekingalpha.com/cdn/s3/company_logos/mark_vector_light/FUJIY\", \"companyLogoUrlDark\": \"https://static.seekingalpha.com/cdn/s3/company_logos/mark_vector_dark/FUJIY\"}}], \"included\": [{\"id\": \"45\", \"type\": \"sector\", \"attributes\": {\"name\": \"Information Technology\", \"quant_tickers_count\": 557}, \"meta\": {\"screener_links\": {\"self\": \"/screeners/9679329f-Top-Technology-Stocks\", \"canonical\": \"https://seekingalpha.com/screeners/9679329f-Top-Technology-Stocks\"}}}, {\"id\": \"45202030\", \"type\": \"sub_industry\", \"attributes\": {\"name\": \"Technology Hardware, Storage and Peripherals\", \"quant_tickers_count\": 28}, \"meta\": {\"screener_links\": {\"self\": \"/screeners/9409aed04c-Top-Technology-Hardware--Storage-and-Peripherals-Stocks\", \"canonical\": \"https://seekingalpha.com/screeners/9409aed04c-Top-Technology-Hardware--Storage-and-Peripherals-Stocks\"}}}], \"meta\": {\"isFund\": false}}\u001b[0m\u001b[32;1m\u001b[1;3m### Company Profile:\n",
      "- **Company Name:** Apple Inc.\n",
      "- **Sector:** Information Technology\n",
      "- **Primary Industry:** Technology Hardware, Storage and Peripherals\n",
      "- **Number of Employees:** 161,000\n",
      "- **Year Founded:** 1976\n",
      "- **Market Cap:** $3,205,896,523,740\n",
      "- **EPS:** $6.45\n",
      "- **Dividend Yield:** 0.47%\n",
      "- **Website:** [www.apple.com](https://www.apple.com)\n",
      "\n",
      "### Peers/Competitors:\n",
      "1. **Dell Technologies Inc. (DELL)**\n",
      "   - ![Dell Technologies Inc. Logo](https://static.seekingalpha.com/cdn/iex/stable/stock/dell/logo?asImage=true)\n",
      "   - **Exchange:** NYSE\n",
      "\n",
      "2. **Xiaomi Corporation (XIACY)**\n",
      "   - ![Xiaomi Corporation Logo](https://static.seekingalpha.com/cdn/iex/stable/stock/xiacy/logo?asImage=true)\n",
      "   - **Exchange:** Pink Current Info\n",
      "\n",
      "3. **Super Micro Computer, Inc. (SMCI)**\n",
      "   - ![Super Micro Computer, Inc. Logo](https://static.seekingalpha.com/cdn/iex/stable/stock/smci/logo?asImage=true)\n",
      "   - **Exchange:** NASDAQ\n",
      "\n",
      "4. **HP Inc. (HPQ)**\n",
      "   - ![HP Inc. Logo](https://static.seekingalpha.com/cdn/iex/stable/stock/hpq/logo?asImage=true)\n",
      "   - **Exchange:** NYSE\n",
      "\n",
      "5. **FUJIFILM Holdings Corporation (FUJIY)**\n",
      "   - ![FUJIFILM Holdings Corporation Logo](https://static.seekingalpha.com/cdn/iex/stable/stock/fujiy/logo?asImage=true)\n",
      "   - **Exchange:** Pink Limited Info\n",
      "\n",
      "These are some of the peers/competitors of Apple Inc. in the Technology Hardware, Storage and Peripherals industry.\u001b[0m\n",
      "\n",
      "\u001b[1m> Finished chain.\u001b[0m\n",
      "Answer: ### Company Profile:\n",
      "- **Company Name:** Apple Inc.\n",
      "- **Sector:** Information Technology\n",
      "- **Primary Industry:** Technology Hardware, Storage and Peripherals\n",
      "- **Number of Employees:** 161,000\n",
      "- **Year Founded:** 1976\n",
      "- **Market Cap:** $3,205,896,523,740\n",
      "- **EPS:** $6.45\n",
      "- **Dividend Yield:** 0.47%\n",
      "- **Website:** [www.apple.com](https://www.apple.com)\n",
      "\n",
      "### Peers/Competitors:\n",
      "1. **Dell Technologies Inc. (DELL)**\n",
      "   - ![Dell Technologies Inc. Logo](https://static.seekingalpha.com/cdn/iex/stable/stock/dell/logo?asImage=true)\n",
      "   - **Exchange:** NYSE\n",
      "\n",
      "2. **Xiaomi Corporation (XIACY)**\n",
      "   - ![Xiaomi Corporation Logo](https://static.seekingalpha.com/cdn/iex/stable/stock/xiacy/logo?asImage=true)\n",
      "   - **Exchange:** Pink Current Info\n",
      "\n",
      "3. **Super Micro Computer, Inc. (SMCI)**\n",
      "   - ![Super Micro Computer, Inc. Logo](https://static.seekingalpha.com/cdn/iex/stable/stock/smci/logo?asImage=true)\n",
      "   - **Exchange:** NASDAQ\n",
      "\n",
      "4. **HP Inc. (HPQ)**\n",
      "   - ![HP Inc. Logo](https://static.seekingalpha.com/cdn/iex/stable/stock/hpq/logo?asImage=true)\n",
      "   - **Exchange:** NYSE\n",
      "\n",
      "5. **FUJIFILM Holdings Corporation (FUJIY)**\n",
      "   - ![FUJIFILM Holdings Corporation Logo](https://static.seekingalpha.com/cdn/iex/stable/stock/fujiy/logo?asImage=true)\n",
      "   - **Exchange:** Pink Limited Info\n",
      "\n",
      "These are some of the peers/competitors of Apple Inc. in the Technology Hardware, Storage and Peripherals industry.\n"
     ]
    }
   ],
   "source": [
    "query = \"I'm an investor, give me information about AAPL, and also give me the peers\"\n",
    "print(\"Question:\", query)\n",
    "result = agent_executor.invoke({\"input\": query})\n",
    "print(\"Answer:\",result['output'])"
   ]
  },
  {
   "cell_type": "code",
   "execution_count": 35,
   "metadata": {},
   "outputs": [
    {
     "name": "stdout",
     "output_type": "stream",
     "text": [
      "### Company Profile:\n",
      "- **Company Name:** Apple Inc.\n",
      "- **Sector:** Information Technology\n",
      "- **Primary Industry:** Technology Hardware, Storage and Peripherals\n",
      "- **Number of Employees:** 161,000\n",
      "- **Year Founded:** 1976\n",
      "- **Market Cap:** $3,205,896,523,740\n",
      "- **EPS:** $6.45\n",
      "- **Dividend Yield:** 0.47%\n",
      "- **Website:** [www.apple.com](https://www.apple.com)\n",
      "\n",
      "### Peers/Competitors:\n",
      "1. **Dell Technologies Inc. (DELL)**\n",
      "   - ![Dell Technologies Inc. Logo](https://static.seekingalpha.com/cdn/iex/stable/stock/dell/logo?asImage=true)\n",
      "   - **Exchange:** NYSE\n",
      "\n",
      "2. **Xiaomi Corporation (XIACY)**\n",
      "   - ![Xiaomi Corporation Logo](https://static.seekingalpha.com/cdn/iex/stable/stock/xiacy/logo?asImage=true)\n",
      "   - **Exchange:** Pink Current Info\n",
      "\n",
      "3. **Super Micro Computer, Inc. (SMCI)**\n",
      "   - ![Super Micro Computer, Inc. Logo](https://static.seekingalpha.com/cdn/iex/stable/stock/smci/logo?asImage=true)\n",
      "   - **Exchange:** NASDAQ\n",
      "\n",
      "4. **HP Inc. (HPQ)**\n",
      "   - ![HP Inc. Logo](https://static.seekingalpha.com/cdn/iex/stable/stock/hpq/logo?asImage=true)\n",
      "   - **Exchange:** NYSE\n",
      "\n",
      "5. **FUJIFILM Holdings Corporation (FUJIY)**\n",
      "   - ![FUJIFILM Holdings Corporation Logo](https://static.seekingalpha.com/cdn/iex/stable/stock/fujiy/logo?asImage=true)\n",
      "   - **Exchange:** Pink Limited Info\n",
      "\n",
      "These are some of the peers/competitors of Apple Inc. in the Technology Hardware, Storage and Peripherals industry.\n"
     ]
    }
   ],
   "source": [
    "print(result['output'])"
   ]
  },
  {
   "cell_type": "markdown",
   "metadata": {},
   "source": [
    "# Tool Decorator + Pydantic"
   ]
  },
  {
   "cell_type": "markdown",
   "metadata": {},
   "source": [
    "In most cases, we'll need Pydantic to validate our input. For instance, for tickers, the format typically consists of a maximum of 4 characters, such as AAPL, META, GOGL, etc. Therefore, we can logically validate whether the user input is in the correct format. If not, we can raise an error and avoid processing it further. This approach enhances the efficiency of our system in terms of cost and execution time."
   ]
  },
  {
   "cell_type": "code",
   "execution_count": 36,
   "metadata": {},
   "outputs": [
    {
     "name": "stdout",
     "output_type": "stream",
     "text": [
      "Question: I'm an investor, what is AAPLLLLLLLLL\n",
      "\n",
      "\n",
      "\u001b[1m> Entering new AgentExecutor chain...\u001b[0m\n",
      "\u001b[32;1m\u001b[1;3m\n",
      "Invoking: `get_company_profile` with `{'stock': 'AAPLLLLLLLLL'}`\n",
      "\n",
      "\n",
      "\u001b[0m\u001b[36;1m\u001b[1;3m{\"data\": [{\"id\": \"AAPLLLLLLLLL\", \"tickerId\": null, \"attributes\": {\"longDesc\": null, \"sectorname\": null, \"sectorgics\": null, \"primaryname\": null, \"primarygics\": null, \"numberOfEmployees\": null, \"yearfounded\": null, \"streetaddress\": null, \"streetaddress2\": null, \"streetaddress3\": null, \"streetaddress4\": null, \"city\": null, \"state\": null, \"zipcode\": null, \"country\": null, \"officephonevalue\": null, \"webpage\": null, \"companyName\": null, \"marketCap\": null, \"totalEnterprise\": null, \"totAnalystsRecommendations\": null, \"fy1UpRevisions\": null, \"fy1DownRevisions\": null, \"divYield\": null, \"eps\": null, \"lastDaily\": null, \"estimateEps\": null, \"debtEq\": null, \"totDebtCap\": null, \"ltDebtEquity\": null, \"ltDebtCap\": null, \"totLiabTotAssets\": null, \"impliedMarketCap\": null, \"shortIntPctFloat\": null, \"divTimeFrame\": null, \"divRate\": null, \"peRatioFwd\": null, \"lastClosePriceEarningsRatio\": null, \"estimateFfo\": null, \"ffoPerShareDiluted\": null, \"dilutedEpsExclExtraItems\": null, \"high52\": null, \"low52\": null}}]}\u001b[0m\u001b[32;1m\u001b[1;3mI couldn't find any information for the stock \"AAPLLLLLLLLL.\" Please provide a valid stock symbol for me to retrieve the company profile.\u001b[0m\n",
      "\n",
      "\u001b[1m> Finished chain.\u001b[0m\n",
      "Answer: I couldn't find any information for the stock \"AAPLLLLLLLLL.\" Please provide a valid stock symbol for me to retrieve the company profile.\n"
     ]
    }
   ],
   "source": [
    "query = \"I'm an investor, what is AAPLLLLLLLLL\"\n",
    "print(\"Question:\", query)\n",
    "result = agent_executor.invoke({\"input\": query})\n",
    "print(\"Answer:\",result['output'])"
   ]
  },
  {
   "cell_type": "code",
   "execution_count": 40,
   "metadata": {},
   "outputs": [],
   "source": [
    "import requests\n",
    "import json\n",
    "from langchain.agents import create_tool_calling_agent, AgentExecutor\n",
    "from langchain_core.prompts import ChatPromptTemplate\n",
    "from pydantic.v1 import BaseModel, Field, validator\n",
    "from datetime import datetime\n",
    "\n",
    "# add pydantic\n",
    "class SearchInput(BaseModel):\n",
    "    stock: str = Field(description=\"Stock ticker to search for, should only contain up to 4 characters\")\n",
    "\n",
    "# add args_schema=SearchInput inside of the tool decorator \n",
    "@tool(args_schema=SearchInput)\n",
    "def get_company_profile(stock:str) -> str:\n",
    "    \"\"\"Get detail profile such as company name, sector name, primary name, number of employees of a stock\"\"\"\n",
    "\n",
    "    api_key = rapid_api_key\n",
    "    url = \"https://seeking-alpha.p.rapidapi.com/symbols/get-profile\"\n",
    "\n",
    "    querystring = {\"symbols\":stock.lower()}\n",
    "\n",
    "    headers = {\n",
    "        \"x-rapidapi-key\": api_key,\n",
    "        \"x-rapidapi-host\": \"seeking-alpha.p.rapidapi.com\"\n",
    "    }\n",
    "\n",
    "    response = requests.get(url, headers=headers, params=querystring)\n",
    "    \n",
    "    if response.status_code == 200:\n",
    "        data = response.json()\n",
    "        result = json.dumps(data)\n",
    "    else:\n",
    "        raise ValueError(f\"No data for {stock}\")\n",
    "    \n",
    "    return result\n",
    "\n",
    "@tool(args_schema=SearchInput)\n",
    "def get_competitors(stock:str) -> str:\n",
    "    \"\"\"Get peers or competitors of a stock\"\"\"\n",
    "\n",
    "    api_key = rapid_api_key\n",
    "    url = \"https://seeking-alpha.p.rapidapi.com/symbols/get-peers\"\n",
    "\n",
    "    querystring = {\"symbol\":stock.lower()}\n",
    "\n",
    "    headers = {\n",
    "        \"x-rapidapi-key\": api_key,\n",
    "        \"x-rapidapi-host\": \"seeking-alpha.p.rapidapi.com\"\n",
    "    }\n",
    "\n",
    "    response = requests.get(url, headers=headers, params=querystring)\n",
    "    \n",
    "    if response.status_code == 200:\n",
    "        data = response.json()\n",
    "        result = json.dumps(data)\n",
    "    else:\n",
    "        raise ValueError(f\"No data for {stock}\")\n",
    "    \n",
    "    return result\n",
    "\n",
    "prompt = ChatPromptTemplate.from_messages([\n",
    "    (\"system\", \"you're a helpful assistant\"),\n",
    "    (\"human\", \"{input}\"),\n",
    "    (\"placeholder\", \"{agent_scratchpad}\"),\n",
    "])\n",
    "\n",
    "tools = [get_company_profile, get_competitors]\n",
    "agent = create_tool_calling_agent(llm, tools, prompt)\n",
    "agent_executor = AgentExecutor(agent=agent, tools=tools, verbose = True)"
   ]
  },
  {
   "cell_type": "code",
   "execution_count": 41,
   "metadata": {},
   "outputs": [
    {
     "name": "stdout",
     "output_type": "stream",
     "text": [
      "Question: I'm an investor, what is AAPLLLLLLL\n",
      "\n",
      "\n",
      "\u001b[1m> Entering new AgentExecutor chain...\u001b[0m\n",
      "\u001b[32;1m\u001b[1;3m\n",
      "Invoking: `get_company_profile` with `{'stock': 'AAPL'}`\n",
      "\n",
      "\n",
      "\u001b[0m\u001b[36;1m\u001b[1;3m{\"data\": [{\"id\": \"AAPL\", \"tickerId\": 146, \"attributes\": {\"longDesc\": \"Apple Inc. designs, manufactures, and markets smartphones, personal computers, tablets, wearables, and accessories worldwide. The company offers iPhone, a line of smartphones; Mac, a line of personal computers; iPad, a line of multi-purpose tablets; and wearables, home, and accessories comprising AirPods, Apple TV, Apple Watch, Beats products, and HomePod. It also provides AppleCare support and cloud services; and operates various platforms, including the App Store that allow customers to discover and download applications and digital content, such as books, music, video, games, and podcasts. In addition, the company offers various services, such as Apple Arcade, a game subscription service; Apple Fitness+, a personalized fitness service; Apple Music, which offers users a curated listening experience with on-demand radio stations; Apple News+, a subscription news and magazine service; Apple TV+, which offers exclusive original content; Apple Card, a co-branded credit card; and Apple Pay, a cashless payment service, as well as licenses its intellectual property. The company serves consumers, and small and mid-sized businesses; and the education, enterprise, and government markets. It distributes third-party applications for its products through the App Store. The company also sells its products through its retail and online stores, and direct sales force; and third-party cellular network carriers, wholesalers, retailers, and resellers. Apple Inc. was founded in 1976 and is headquartered in Cupertino, California.\", \"sectorname\": \"Information Technology\", \"sectorgics\": 45, \"primaryname\": \"Technology Hardware, Storage and Peripherals\", \"primarygics\": 45202030, \"numberOfEmployees\": 161000.0, \"yearfounded\": 1976, \"streetaddress\": \"One Apple Park Way\", \"streetaddress2\": null, \"streetaddress3\": null, \"streetaddress4\": null, \"city\": \"Cupertino\", \"state\": \"CA\", \"zipcode\": \"95014\", \"country\": \"United States\", \"officephonevalue\": \"408 996 1010\", \"webpage\": \"www.apple.com\", \"companyName\": \"Apple Inc.\", \"marketCap\": 3205896523740.0, \"totalEnterprise\": 3148149523740.0, \"totAnalystsRecommendations\": 44.0, \"fy1UpRevisions\": 26.0, \"fy1DownRevisions\": 14.0, \"divYield\": 0.47, \"eps\": 6.454569, \"lastDaily\": {\"rtTime\": \"2024-06-26T19:59:59.910+00:00\", \"rtSource\": \"RealTimeQuote\", \"last\": 213.25, \"open\": 211.5, \"close\": 213.25, \"low\": 210.64, \"high\": 214.86, \"volume\": 66213186, \"volumeAt\": \"2024-06-26T19:59:59.910+00:00\", \"at\": \"2024-06-27T01:30:25.696-04:00\"}, \"estimateEps\": 6.59271, \"debtEq\": 140.9682, \"totDebtCap\": 58.5007, \"ltDebtEquity\": 123.7714, \"ltDebtCap\": 51.3642, \"totLiabTotAssets\": 78.0107, \"impliedMarketCap\": null, \"shortIntPctFloat\": null, \"divTimeFrame\": \"forward\", \"divRate\": 1.0, \"peRatioFwd\": 32.3463340568598, \"lastClosePriceEarningsRatio\": 32.5672366153751, \"estimateFfo\": null, \"ffoPerShareDiluted\": null, \"dilutedEpsExclExtraItems\": null, \"high52\": null, \"low52\": null}}]}\u001b[0m\u001b[32;1m\u001b[1;3mAAPL is the stock ticker for Apple Inc. Apple designs, manufactures, and markets smartphones, personal computers, tablets, wearables, and accessories worldwide. The company offers a range of products including iPhone, Mac, iPad, wearables, home accessories, and more. Apple also provides services such as AppleCare support, cloud services, and operates platforms like the App Store.\n",
      "\n",
      "Here are some key details about Apple Inc.:\n",
      "- Sector: Information Technology\n",
      "- Industry: Technology Hardware, Storage and Peripherals\n",
      "- Number of Employees: 161,000\n",
      "- Year Founded: 1976\n",
      "- Headquarters: Cupertino, California\n",
      "- Website: [www.apple.com](http://www.apple.com)\n",
      "- Market Cap: $3.21 trillion\n",
      "- Current Stock Price: $213.25\n",
      "\n",
      "If you would like more information or have any specific questions about Apple Inc., feel free to ask!\u001b[0m\n",
      "\n",
      "\u001b[1m> Finished chain.\u001b[0m\n",
      "Answer: AAPL is the stock ticker for Apple Inc. Apple designs, manufactures, and markets smartphones, personal computers, tablets, wearables, and accessories worldwide. The company offers a range of products including iPhone, Mac, iPad, wearables, home accessories, and more. Apple also provides services such as AppleCare support, cloud services, and operates platforms like the App Store.\n",
      "\n",
      "Here are some key details about Apple Inc.:\n",
      "- Sector: Information Technology\n",
      "- Industry: Technology Hardware, Storage and Peripherals\n",
      "- Number of Employees: 161,000\n",
      "- Year Founded: 1976\n",
      "- Headquarters: Cupertino, California\n",
      "- Website: [www.apple.com](http://www.apple.com)\n",
      "- Market Cap: $3.21 trillion\n",
      "- Current Stock Price: $213.25\n",
      "\n",
      "If you would like more information or have any specific questions about Apple Inc., feel free to ask!\n"
     ]
    }
   ],
   "source": [
    "query = \"I'm an investor, what is AAPLLLLLLL\"\n",
    "print(\"Question:\", query)\n",
    "result = agent_executor.invoke({\"input\": query})\n",
    "print(\"Answer:\",result['output'])"
   ]
  },
  {
   "cell_type": "markdown",
   "metadata": {},
   "source": [
    "gpt-3.5-turbo is good enough in understanding the requirement, so it will auto generate that AAPLLLLLL means AAPL. but how if we want more control?"
   ]
  },
  {
   "cell_type": "code",
   "execution_count": 42,
   "metadata": {},
   "outputs": [],
   "source": [
    "import requests\n",
    "import json\n",
    "from langchain.agents import create_tool_calling_agent, AgentExecutor\n",
    "from langchain_core.prompts import ChatPromptTemplate\n",
    "from pydantic.v1 import BaseModel, Field, validator\n",
    "from datetime import datetime\n",
    "\n",
    "# add pydantic\n",
    "class SearchInput(BaseModel):\n",
    "    stock: str = Field(description=\"Stock ticker to search for\")\n",
    "\n",
    "    @validator('stock')\n",
    "    def validate_stock(cls, v):\n",
    "        if not v.isalpha() or len(v) > 4:\n",
    "            raise ValueError('Stock ticker should only contain up to 4 alphabetic characters')\n",
    "        return v\n",
    "\n",
    "# add args_schema=SearchInput inside of the tool decorator \n",
    "@tool(args_schema=SearchInput)\n",
    "def get_company_profile(stock:str) -> str:\n",
    "    \"\"\"Get detail profile such as company name, sector name, primary name, number of employees of a stock\"\"\"\n",
    "\n",
    "    api_key = rapid_api_key\n",
    "    url = \"https://seeking-alpha.p.rapidapi.com/symbols/get-profile\"\n",
    "\n",
    "    querystring = {\"symbols\":stock.lower()}\n",
    "\n",
    "    headers = {\n",
    "        \"x-rapidapi-key\": api_key,\n",
    "        \"x-rapidapi-host\": \"seeking-alpha.p.rapidapi.com\"\n",
    "    }\n",
    "\n",
    "    response = requests.get(url, headers=headers, params=querystring)\n",
    "    \n",
    "    if response.status_code == 200:\n",
    "        data = response.json()\n",
    "        result = json.dumps(data)\n",
    "    else:\n",
    "        raise ValueError(f\"No data for {stock}\")\n",
    "    \n",
    "    return result\n",
    "\n",
    "@tool(args_schema=SearchInput)\n",
    "def get_competitors(stock:str) -> str:\n",
    "    \"\"\"Get peers or competitors of a stock\"\"\"\n",
    "\n",
    "    api_key = rapid_api_key\n",
    "    url = \"https://seeking-alpha.p.rapidapi.com/symbols/get-peers\"\n",
    "\n",
    "    querystring = {\"symbol\":stock.lower()}\n",
    "\n",
    "    headers = {\n",
    "        \"x-rapidapi-key\": api_key,\n",
    "        \"x-rapidapi-host\": \"seeking-alpha.p.rapidapi.com\"\n",
    "    }\n",
    "\n",
    "    response = requests.get(url, headers=headers, params=querystring)\n",
    "    \n",
    "    if response.status_code == 200:\n",
    "        data = response.json()\n",
    "        result = json.dumps(data)\n",
    "    else:\n",
    "        raise ValueError(f\"No data for {stock}\")\n",
    "    \n",
    "    return result\n",
    "\n",
    "prompt = ChatPromptTemplate.from_messages([\n",
    "    (\"system\", \"you're a helpful assistant\"),\n",
    "    (\"human\", \"{input}\"),\n",
    "    (\"placeholder\", \"{agent_scratchpad}\"),\n",
    "])\n",
    "\n",
    "tools = [get_company_profile, get_competitors]\n",
    "agent = create_tool_calling_agent(llm, tools, prompt)\n",
    "agent_executor = AgentExecutor(agent=agent, tools=tools, verbose = True)"
   ]
  },
  {
   "cell_type": "code",
   "execution_count": 43,
   "metadata": {},
   "outputs": [
    {
     "name": "stdout",
     "output_type": "stream",
     "text": [
      "Question: I'm an investor, what is AAPLLLLLLL\n",
      "\n",
      "\n",
      "\u001b[1m> Entering new AgentExecutor chain...\u001b[0m\n",
      "\u001b[32;1m\u001b[1;3m\n",
      "Invoking: `get_company_profile` with `{'stock': 'AAPLLLLLLL'}`\n",
      "\n",
      "\n",
      "\u001b[0m"
     ]
    },
    {
     "ename": "ValidationError",
     "evalue": "1 validation error for SearchInput\nstock\n  Stock ticker should only contain up to 4 alphabetic characters (type=value_error)",
     "output_type": "error",
     "traceback": [
      "\u001b[1;31m---------------------------------------------------------------------------\u001b[0m",
      "\u001b[1;31mValidationError\u001b[0m                           Traceback (most recent call last)",
      "Cell \u001b[1;32mIn[43], line 3\u001b[0m\n\u001b[0;32m      1\u001b[0m query \u001b[38;5;241m=\u001b[39m \u001b[38;5;124m\"\u001b[39m\u001b[38;5;124mI\u001b[39m\u001b[38;5;124m'\u001b[39m\u001b[38;5;124mm an investor, what is AAPLLLLLLL\u001b[39m\u001b[38;5;124m\"\u001b[39m\n\u001b[0;32m      2\u001b[0m \u001b[38;5;28mprint\u001b[39m(\u001b[38;5;124m\"\u001b[39m\u001b[38;5;124mQuestion:\u001b[39m\u001b[38;5;124m\"\u001b[39m, query)\n\u001b[1;32m----> 3\u001b[0m result \u001b[38;5;241m=\u001b[39m \u001b[43magent_executor\u001b[49m\u001b[38;5;241;43m.\u001b[39;49m\u001b[43minvoke\u001b[49m\u001b[43m(\u001b[49m\u001b[43m{\u001b[49m\u001b[38;5;124;43m\"\u001b[39;49m\u001b[38;5;124;43minput\u001b[39;49m\u001b[38;5;124;43m\"\u001b[39;49m\u001b[43m:\u001b[49m\u001b[43m \u001b[49m\u001b[43mquery\u001b[49m\u001b[43m}\u001b[49m\u001b[43m)\u001b[49m\n\u001b[0;32m      4\u001b[0m \u001b[38;5;28mprint\u001b[39m(\u001b[38;5;124m\"\u001b[39m\u001b[38;5;124mAnswer:\u001b[39m\u001b[38;5;124m\"\u001b[39m,result[\u001b[38;5;124m'\u001b[39m\u001b[38;5;124moutput\u001b[39m\u001b[38;5;124m'\u001b[39m])\n",
      "File \u001b[1;32mc:\\Users\\Geraldus Wilsen\\Documents\\Portfolio\\stock_agent\\venv\\lib\\site-packages\\langchain\\chains\\base.py:166\u001b[0m, in \u001b[0;36mChain.invoke\u001b[1;34m(self, input, config, **kwargs)\u001b[0m\n\u001b[0;32m    164\u001b[0m \u001b[38;5;28;01mexcept\u001b[39;00m \u001b[38;5;167;01mBaseException\u001b[39;00m \u001b[38;5;28;01mas\u001b[39;00m e:\n\u001b[0;32m    165\u001b[0m     run_manager\u001b[38;5;241m.\u001b[39mon_chain_error(e)\n\u001b[1;32m--> 166\u001b[0m     \u001b[38;5;28;01mraise\u001b[39;00m e\n\u001b[0;32m    167\u001b[0m run_manager\u001b[38;5;241m.\u001b[39mon_chain_end(outputs)\n\u001b[0;32m    169\u001b[0m \u001b[38;5;28;01mif\u001b[39;00m include_run_info:\n",
      "File \u001b[1;32mc:\\Users\\Geraldus Wilsen\\Documents\\Portfolio\\stock_agent\\venv\\lib\\site-packages\\langchain\\chains\\base.py:156\u001b[0m, in \u001b[0;36mChain.invoke\u001b[1;34m(self, input, config, **kwargs)\u001b[0m\n\u001b[0;32m    153\u001b[0m \u001b[38;5;28;01mtry\u001b[39;00m:\n\u001b[0;32m    154\u001b[0m     \u001b[38;5;28mself\u001b[39m\u001b[38;5;241m.\u001b[39m_validate_inputs(inputs)\n\u001b[0;32m    155\u001b[0m     outputs \u001b[38;5;241m=\u001b[39m (\n\u001b[1;32m--> 156\u001b[0m         \u001b[38;5;28;43mself\u001b[39;49m\u001b[38;5;241;43m.\u001b[39;49m\u001b[43m_call\u001b[49m\u001b[43m(\u001b[49m\u001b[43minputs\u001b[49m\u001b[43m,\u001b[49m\u001b[43m \u001b[49m\u001b[43mrun_manager\u001b[49m\u001b[38;5;241;43m=\u001b[39;49m\u001b[43mrun_manager\u001b[49m\u001b[43m)\u001b[49m\n\u001b[0;32m    157\u001b[0m         \u001b[38;5;28;01mif\u001b[39;00m new_arg_supported\n\u001b[0;32m    158\u001b[0m         \u001b[38;5;28;01melse\u001b[39;00m \u001b[38;5;28mself\u001b[39m\u001b[38;5;241m.\u001b[39m_call(inputs)\n\u001b[0;32m    159\u001b[0m     )\n\u001b[0;32m    161\u001b[0m     final_outputs: Dict[\u001b[38;5;28mstr\u001b[39m, Any] \u001b[38;5;241m=\u001b[39m \u001b[38;5;28mself\u001b[39m\u001b[38;5;241m.\u001b[39mprep_outputs(\n\u001b[0;32m    162\u001b[0m         inputs, outputs, return_only_outputs\n\u001b[0;32m    163\u001b[0m     )\n\u001b[0;32m    164\u001b[0m \u001b[38;5;28;01mexcept\u001b[39;00m \u001b[38;5;167;01mBaseException\u001b[39;00m \u001b[38;5;28;01mas\u001b[39;00m e:\n",
      "File \u001b[1;32mc:\\Users\\Geraldus Wilsen\\Documents\\Portfolio\\stock_agent\\venv\\lib\\site-packages\\langchain\\agents\\agent.py:1433\u001b[0m, in \u001b[0;36mAgentExecutor._call\u001b[1;34m(self, inputs, run_manager)\u001b[0m\n\u001b[0;32m   1431\u001b[0m \u001b[38;5;66;03m# We now enter the agent loop (until it returns something).\u001b[39;00m\n\u001b[0;32m   1432\u001b[0m \u001b[38;5;28;01mwhile\u001b[39;00m \u001b[38;5;28mself\u001b[39m\u001b[38;5;241m.\u001b[39m_should_continue(iterations, time_elapsed):\n\u001b[1;32m-> 1433\u001b[0m     next_step_output \u001b[38;5;241m=\u001b[39m \u001b[38;5;28;43mself\u001b[39;49m\u001b[38;5;241;43m.\u001b[39;49m\u001b[43m_take_next_step\u001b[49m\u001b[43m(\u001b[49m\n\u001b[0;32m   1434\u001b[0m \u001b[43m        \u001b[49m\u001b[43mname_to_tool_map\u001b[49m\u001b[43m,\u001b[49m\n\u001b[0;32m   1435\u001b[0m \u001b[43m        \u001b[49m\u001b[43mcolor_mapping\u001b[49m\u001b[43m,\u001b[49m\n\u001b[0;32m   1436\u001b[0m \u001b[43m        \u001b[49m\u001b[43minputs\u001b[49m\u001b[43m,\u001b[49m\n\u001b[0;32m   1437\u001b[0m \u001b[43m        \u001b[49m\u001b[43mintermediate_steps\u001b[49m\u001b[43m,\u001b[49m\n\u001b[0;32m   1438\u001b[0m \u001b[43m        \u001b[49m\u001b[43mrun_manager\u001b[49m\u001b[38;5;241;43m=\u001b[39;49m\u001b[43mrun_manager\u001b[49m\u001b[43m,\u001b[49m\n\u001b[0;32m   1439\u001b[0m \u001b[43m    \u001b[49m\u001b[43m)\u001b[49m\n\u001b[0;32m   1440\u001b[0m     \u001b[38;5;28;01mif\u001b[39;00m \u001b[38;5;28misinstance\u001b[39m(next_step_output, AgentFinish):\n\u001b[0;32m   1441\u001b[0m         \u001b[38;5;28;01mreturn\u001b[39;00m \u001b[38;5;28mself\u001b[39m\u001b[38;5;241m.\u001b[39m_return(\n\u001b[0;32m   1442\u001b[0m             next_step_output, intermediate_steps, run_manager\u001b[38;5;241m=\u001b[39mrun_manager\n\u001b[0;32m   1443\u001b[0m         )\n",
      "File \u001b[1;32mc:\\Users\\Geraldus Wilsen\\Documents\\Portfolio\\stock_agent\\venv\\lib\\site-packages\\langchain\\agents\\agent.py:1139\u001b[0m, in \u001b[0;36mAgentExecutor._take_next_step\u001b[1;34m(self, name_to_tool_map, color_mapping, inputs, intermediate_steps, run_manager)\u001b[0m\n\u001b[0;32m   1130\u001b[0m \u001b[38;5;28;01mdef\u001b[39;00m \u001b[38;5;21m_take_next_step\u001b[39m(\n\u001b[0;32m   1131\u001b[0m     \u001b[38;5;28mself\u001b[39m,\n\u001b[0;32m   1132\u001b[0m     name_to_tool_map: Dict[\u001b[38;5;28mstr\u001b[39m, BaseTool],\n\u001b[1;32m   (...)\u001b[0m\n\u001b[0;32m   1136\u001b[0m     run_manager: Optional[CallbackManagerForChainRun] \u001b[38;5;241m=\u001b[39m \u001b[38;5;28;01mNone\u001b[39;00m,\n\u001b[0;32m   1137\u001b[0m ) \u001b[38;5;241m-\u001b[39m\u001b[38;5;241m>\u001b[39m Union[AgentFinish, List[Tuple[AgentAction, \u001b[38;5;28mstr\u001b[39m]]]:\n\u001b[0;32m   1138\u001b[0m     \u001b[38;5;28;01mreturn\u001b[39;00m \u001b[38;5;28mself\u001b[39m\u001b[38;5;241m.\u001b[39m_consume_next_step(\n\u001b[1;32m-> 1139\u001b[0m         [\n\u001b[0;32m   1140\u001b[0m             a\n\u001b[0;32m   1141\u001b[0m             \u001b[38;5;28;01mfor\u001b[39;00m a \u001b[38;5;129;01min\u001b[39;00m \u001b[38;5;28mself\u001b[39m\u001b[38;5;241m.\u001b[39m_iter_next_step(\n\u001b[0;32m   1142\u001b[0m                 name_to_tool_map,\n\u001b[0;32m   1143\u001b[0m                 color_mapping,\n\u001b[0;32m   1144\u001b[0m                 inputs,\n\u001b[0;32m   1145\u001b[0m                 intermediate_steps,\n\u001b[0;32m   1146\u001b[0m                 run_manager,\n\u001b[0;32m   1147\u001b[0m             )\n\u001b[0;32m   1148\u001b[0m         ]\n\u001b[0;32m   1149\u001b[0m     )\n",
      "File \u001b[1;32mc:\\Users\\Geraldus Wilsen\\Documents\\Portfolio\\stock_agent\\venv\\lib\\site-packages\\langchain\\agents\\agent.py:1139\u001b[0m, in \u001b[0;36m<listcomp>\u001b[1;34m(.0)\u001b[0m\n\u001b[0;32m   1130\u001b[0m \u001b[38;5;28;01mdef\u001b[39;00m \u001b[38;5;21m_take_next_step\u001b[39m(\n\u001b[0;32m   1131\u001b[0m     \u001b[38;5;28mself\u001b[39m,\n\u001b[0;32m   1132\u001b[0m     name_to_tool_map: Dict[\u001b[38;5;28mstr\u001b[39m, BaseTool],\n\u001b[1;32m   (...)\u001b[0m\n\u001b[0;32m   1136\u001b[0m     run_manager: Optional[CallbackManagerForChainRun] \u001b[38;5;241m=\u001b[39m \u001b[38;5;28;01mNone\u001b[39;00m,\n\u001b[0;32m   1137\u001b[0m ) \u001b[38;5;241m-\u001b[39m\u001b[38;5;241m>\u001b[39m Union[AgentFinish, List[Tuple[AgentAction, \u001b[38;5;28mstr\u001b[39m]]]:\n\u001b[0;32m   1138\u001b[0m     \u001b[38;5;28;01mreturn\u001b[39;00m \u001b[38;5;28mself\u001b[39m\u001b[38;5;241m.\u001b[39m_consume_next_step(\n\u001b[1;32m-> 1139\u001b[0m         [\n\u001b[0;32m   1140\u001b[0m             a\n\u001b[0;32m   1141\u001b[0m             \u001b[38;5;28;01mfor\u001b[39;00m a \u001b[38;5;129;01min\u001b[39;00m \u001b[38;5;28mself\u001b[39m\u001b[38;5;241m.\u001b[39m_iter_next_step(\n\u001b[0;32m   1142\u001b[0m                 name_to_tool_map,\n\u001b[0;32m   1143\u001b[0m                 color_mapping,\n\u001b[0;32m   1144\u001b[0m                 inputs,\n\u001b[0;32m   1145\u001b[0m                 intermediate_steps,\n\u001b[0;32m   1146\u001b[0m                 run_manager,\n\u001b[0;32m   1147\u001b[0m             )\n\u001b[0;32m   1148\u001b[0m         ]\n\u001b[0;32m   1149\u001b[0m     )\n",
      "File \u001b[1;32mc:\\Users\\Geraldus Wilsen\\Documents\\Portfolio\\stock_agent\\venv\\lib\\site-packages\\langchain\\agents\\agent.py:1224\u001b[0m, in \u001b[0;36mAgentExecutor._iter_next_step\u001b[1;34m(self, name_to_tool_map, color_mapping, inputs, intermediate_steps, run_manager)\u001b[0m\n\u001b[0;32m   1222\u001b[0m     \u001b[38;5;28;01myield\u001b[39;00m agent_action\n\u001b[0;32m   1223\u001b[0m \u001b[38;5;28;01mfor\u001b[39;00m agent_action \u001b[38;5;129;01min\u001b[39;00m actions:\n\u001b[1;32m-> 1224\u001b[0m     \u001b[38;5;28;01myield\u001b[39;00m \u001b[38;5;28;43mself\u001b[39;49m\u001b[38;5;241;43m.\u001b[39;49m\u001b[43m_perform_agent_action\u001b[49m\u001b[43m(\u001b[49m\n\u001b[0;32m   1225\u001b[0m \u001b[43m        \u001b[49m\u001b[43mname_to_tool_map\u001b[49m\u001b[43m,\u001b[49m\u001b[43m \u001b[49m\u001b[43mcolor_mapping\u001b[49m\u001b[43m,\u001b[49m\u001b[43m \u001b[49m\u001b[43magent_action\u001b[49m\u001b[43m,\u001b[49m\u001b[43m \u001b[49m\u001b[43mrun_manager\u001b[49m\n\u001b[0;32m   1226\u001b[0m \u001b[43m    \u001b[49m\u001b[43m)\u001b[49m\n",
      "File \u001b[1;32mc:\\Users\\Geraldus Wilsen\\Documents\\Portfolio\\stock_agent\\venv\\lib\\site-packages\\langchain\\agents\\agent.py:1246\u001b[0m, in \u001b[0;36mAgentExecutor._perform_agent_action\u001b[1;34m(self, name_to_tool_map, color_mapping, agent_action, run_manager)\u001b[0m\n\u001b[0;32m   1244\u001b[0m         tool_run_kwargs[\u001b[38;5;124m\"\u001b[39m\u001b[38;5;124mllm_prefix\u001b[39m\u001b[38;5;124m\"\u001b[39m] \u001b[38;5;241m=\u001b[39m \u001b[38;5;124m\"\u001b[39m\u001b[38;5;124m\"\u001b[39m\n\u001b[0;32m   1245\u001b[0m     \u001b[38;5;66;03m# We then call the tool on the tool input to get an observation\u001b[39;00m\n\u001b[1;32m-> 1246\u001b[0m     observation \u001b[38;5;241m=\u001b[39m tool\u001b[38;5;241m.\u001b[39mrun(\n\u001b[0;32m   1247\u001b[0m         agent_action\u001b[38;5;241m.\u001b[39mtool_input,\n\u001b[0;32m   1248\u001b[0m         verbose\u001b[38;5;241m=\u001b[39m\u001b[38;5;28mself\u001b[39m\u001b[38;5;241m.\u001b[39mverbose,\n\u001b[0;32m   1249\u001b[0m         color\u001b[38;5;241m=\u001b[39mcolor,\n\u001b[0;32m   1250\u001b[0m         callbacks\u001b[38;5;241m=\u001b[39mrun_manager\u001b[38;5;241m.\u001b[39mget_child() \u001b[38;5;28;01mif\u001b[39;00m run_manager \u001b[38;5;28;01melse\u001b[39;00m \u001b[38;5;28;01mNone\u001b[39;00m,\n\u001b[0;32m   1251\u001b[0m         \u001b[38;5;241m*\u001b[39m\u001b[38;5;241m*\u001b[39mtool_run_kwargs,\n\u001b[0;32m   1252\u001b[0m     )\n\u001b[0;32m   1253\u001b[0m \u001b[38;5;28;01melse\u001b[39;00m:\n\u001b[0;32m   1254\u001b[0m     tool_run_kwargs \u001b[38;5;241m=\u001b[39m \u001b[38;5;28mself\u001b[39m\u001b[38;5;241m.\u001b[39magent\u001b[38;5;241m.\u001b[39mtool_run_logging_kwargs()\n",
      "File \u001b[1;32mc:\\Users\\Geraldus Wilsen\\Documents\\Portfolio\\stock_agent\\venv\\lib\\site-packages\\langchain_core\\tools.py:417\u001b[0m, in \u001b[0;36mBaseTool.run\u001b[1;34m(self, tool_input, verbose, start_color, color, callbacks, tags, metadata, run_name, run_id, config, **kwargs)\u001b[0m\n\u001b[0;32m    415\u001b[0m \u001b[38;5;28;01mexcept\u001b[39;00m ValidationError \u001b[38;5;28;01mas\u001b[39;00m e:\n\u001b[0;32m    416\u001b[0m     \u001b[38;5;28;01mif\u001b[39;00m \u001b[38;5;129;01mnot\u001b[39;00m \u001b[38;5;28mself\u001b[39m\u001b[38;5;241m.\u001b[39mhandle_validation_error:\n\u001b[1;32m--> 417\u001b[0m         \u001b[38;5;28;01mraise\u001b[39;00m e\n\u001b[0;32m    418\u001b[0m     \u001b[38;5;28;01melif\u001b[39;00m \u001b[38;5;28misinstance\u001b[39m(\u001b[38;5;28mself\u001b[39m\u001b[38;5;241m.\u001b[39mhandle_validation_error, \u001b[38;5;28mbool\u001b[39m):\n\u001b[0;32m    419\u001b[0m         observation \u001b[38;5;241m=\u001b[39m \u001b[38;5;124m\"\u001b[39m\u001b[38;5;124mTool input validation error\u001b[39m\u001b[38;5;124m\"\u001b[39m\n",
      "File \u001b[1;32mc:\\Users\\Geraldus Wilsen\\Documents\\Portfolio\\stock_agent\\venv\\lib\\site-packages\\langchain_core\\tools.py:406\u001b[0m, in \u001b[0;36mBaseTool.run\u001b[1;34m(self, tool_input, verbose, start_color, color, callbacks, tags, metadata, run_name, run_id, config, **kwargs)\u001b[0m\n\u001b[0;32m    404\u001b[0m context \u001b[38;5;241m=\u001b[39m copy_context()\n\u001b[0;32m    405\u001b[0m context\u001b[38;5;241m.\u001b[39mrun(_set_config_context, child_config)\n\u001b[1;32m--> 406\u001b[0m parsed_input \u001b[38;5;241m=\u001b[39m \u001b[38;5;28;43mself\u001b[39;49m\u001b[38;5;241;43m.\u001b[39;49m\u001b[43m_parse_input\u001b[49m\u001b[43m(\u001b[49m\u001b[43mtool_input\u001b[49m\u001b[43m)\u001b[49m\n\u001b[0;32m    407\u001b[0m tool_args, tool_kwargs \u001b[38;5;241m=\u001b[39m \u001b[38;5;28mself\u001b[39m\u001b[38;5;241m.\u001b[39m_to_args_and_kwargs(parsed_input)\n\u001b[0;32m    408\u001b[0m observation \u001b[38;5;241m=\u001b[39m (\n\u001b[0;32m    409\u001b[0m     context\u001b[38;5;241m.\u001b[39mrun(\n\u001b[0;32m    410\u001b[0m         \u001b[38;5;28mself\u001b[39m\u001b[38;5;241m.\u001b[39m_run, \u001b[38;5;241m*\u001b[39mtool_args, run_manager\u001b[38;5;241m=\u001b[39mrun_manager, \u001b[38;5;241m*\u001b[39m\u001b[38;5;241m*\u001b[39mtool_kwargs\n\u001b[1;32m   (...)\u001b[0m\n\u001b[0;32m    413\u001b[0m     \u001b[38;5;28;01melse\u001b[39;00m context\u001b[38;5;241m.\u001b[39mrun(\u001b[38;5;28mself\u001b[39m\u001b[38;5;241m.\u001b[39m_run, \u001b[38;5;241m*\u001b[39mtool_args, \u001b[38;5;241m*\u001b[39m\u001b[38;5;241m*\u001b[39mtool_kwargs)\n\u001b[0;32m    414\u001b[0m )\n",
      "File \u001b[1;32mc:\\Users\\Geraldus Wilsen\\Documents\\Portfolio\\stock_agent\\venv\\lib\\site-packages\\langchain_core\\tools.py:304\u001b[0m, in \u001b[0;36mBaseTool._parse_input\u001b[1;34m(self, tool_input)\u001b[0m\n\u001b[0;32m    302\u001b[0m \u001b[38;5;28;01melse\u001b[39;00m:\n\u001b[0;32m    303\u001b[0m     \u001b[38;5;28;01mif\u001b[39;00m input_args \u001b[38;5;129;01mis\u001b[39;00m \u001b[38;5;129;01mnot\u001b[39;00m \u001b[38;5;28;01mNone\u001b[39;00m:\n\u001b[1;32m--> 304\u001b[0m         result \u001b[38;5;241m=\u001b[39m \u001b[43minput_args\u001b[49m\u001b[38;5;241;43m.\u001b[39;49m\u001b[43mparse_obj\u001b[49m\u001b[43m(\u001b[49m\u001b[43mtool_input\u001b[49m\u001b[43m)\u001b[49m\n\u001b[0;32m    305\u001b[0m         \u001b[38;5;28;01mreturn\u001b[39;00m {\n\u001b[0;32m    306\u001b[0m             k: \u001b[38;5;28mgetattr\u001b[39m(result, k)\n\u001b[0;32m    307\u001b[0m             \u001b[38;5;28;01mfor\u001b[39;00m k, v \u001b[38;5;129;01min\u001b[39;00m result\u001b[38;5;241m.\u001b[39mdict()\u001b[38;5;241m.\u001b[39mitems()\n\u001b[0;32m    308\u001b[0m             \u001b[38;5;28;01mif\u001b[39;00m k \u001b[38;5;129;01min\u001b[39;00m tool_input\n\u001b[0;32m    309\u001b[0m         }\n\u001b[0;32m    310\u001b[0m \u001b[38;5;28;01mreturn\u001b[39;00m tool_input\n",
      "File \u001b[1;32mc:\\Users\\Geraldus Wilsen\\Documents\\Portfolio\\stock_agent\\venv\\lib\\site-packages\\pydantic\\v1\\main.py:526\u001b[0m, in \u001b[0;36mBaseModel.parse_obj\u001b[1;34m(cls, obj)\u001b[0m\n\u001b[0;32m    524\u001b[0m         exc \u001b[38;5;241m=\u001b[39m \u001b[38;5;167;01mTypeError\u001b[39;00m(\u001b[38;5;124mf\u001b[39m\u001b[38;5;124m'\u001b[39m\u001b[38;5;132;01m{\u001b[39;00m\u001b[38;5;28mcls\u001b[39m\u001b[38;5;241m.\u001b[39m\u001b[38;5;18m__name__\u001b[39m\u001b[38;5;132;01m}\u001b[39;00m\u001b[38;5;124m expected dict not \u001b[39m\u001b[38;5;132;01m{\u001b[39;00mobj\u001b[38;5;241m.\u001b[39m\u001b[38;5;18m__class__\u001b[39m\u001b[38;5;241m.\u001b[39m\u001b[38;5;18m__name__\u001b[39m\u001b[38;5;132;01m}\u001b[39;00m\u001b[38;5;124m'\u001b[39m)\n\u001b[0;32m    525\u001b[0m         \u001b[38;5;28;01mraise\u001b[39;00m ValidationError([ErrorWrapper(exc, loc\u001b[38;5;241m=\u001b[39mROOT_KEY)], \u001b[38;5;28mcls\u001b[39m) \u001b[38;5;28;01mfrom\u001b[39;00m \u001b[38;5;21;01me\u001b[39;00m\n\u001b[1;32m--> 526\u001b[0m \u001b[38;5;28;01mreturn\u001b[39;00m \u001b[38;5;28mcls\u001b[39m(\u001b[38;5;241m*\u001b[39m\u001b[38;5;241m*\u001b[39mobj)\n",
      "File \u001b[1;32mc:\\Users\\Geraldus Wilsen\\Documents\\Portfolio\\stock_agent\\venv\\lib\\site-packages\\pydantic\\v1\\main.py:341\u001b[0m, in \u001b[0;36mBaseModel.__init__\u001b[1;34m(__pydantic_self__, **data)\u001b[0m\n\u001b[0;32m    339\u001b[0m values, fields_set, validation_error \u001b[38;5;241m=\u001b[39m validate_model(__pydantic_self__\u001b[38;5;241m.\u001b[39m\u001b[38;5;18m__class__\u001b[39m, data)\n\u001b[0;32m    340\u001b[0m \u001b[38;5;28;01mif\u001b[39;00m validation_error:\n\u001b[1;32m--> 341\u001b[0m     \u001b[38;5;28;01mraise\u001b[39;00m validation_error\n\u001b[0;32m    342\u001b[0m \u001b[38;5;28;01mtry\u001b[39;00m:\n\u001b[0;32m    343\u001b[0m     object_setattr(__pydantic_self__, \u001b[38;5;124m'\u001b[39m\u001b[38;5;124m__dict__\u001b[39m\u001b[38;5;124m'\u001b[39m, values)\n",
      "\u001b[1;31mValidationError\u001b[0m: 1 validation error for SearchInput\nstock\n  Stock ticker should only contain up to 4 alphabetic characters (type=value_error)"
     ]
    }
   ],
   "source": [
    "query = \"I'm an investor, what is AAPLLLLLLL\"\n",
    "print(\"Question:\", query)\n",
    "result = agent_executor.invoke({\"input\": query})\n",
    "print(\"Answer:\",result['output'])"
   ]
  },
  {
   "cell_type": "markdown",
   "metadata": {},
   "source": [
    "# Structured Tools"
   ]
  },
  {
   "cell_type": "markdown",
   "metadata": {},
   "source": [
    "https://blog.langchain.dev/structured-tools/"
   ]
  },
  {
   "cell_type": "markdown",
   "metadata": {},
   "source": [
    "If we raise a ValueError, our system will break, halting the process with an error in the middle. For example, if it's a chatbot, it might suddenly stop without providing any explanation. Therefore, we require **error handling**. Langchain already provides us with ToolException, but it can only be accessed through Structured Tools or the base class. We cannot implement ToolException using the tool decorator, illustrating why @tool is not always sufficient. For greater flexibility, we should use StructuredTools\n",
    "\n",
    "1. change ValueError to ToolException\n",
    "2. handle_tool_error = True"
   ]
  },
  {
   "cell_type": "code",
   "execution_count": 51,
   "metadata": {},
   "outputs": [],
   "source": [
    "from pydantic.v1 import BaseModel, Field, validator\n",
    "from datetime import datetime\n",
    "from langchain_core.tools import StructuredTool\n",
    "from langchain_core.tools import ToolException\n",
    "\n",
    "# change ValueError to ToolException\n",
    "class SearchInput(BaseModel):\n",
    "    stock: str = Field(description=\"Stock ticker to search for\")\n",
    "    \n",
    "    @validator('stock')\n",
    "    def validate_stock(cls, v):\n",
    "        if not v.isalpha() or len(v) > 4:\n",
    "            raise ToolException('Stock ticker should only contain up to 4 alphabetic characters')\n",
    "        return v\n",
    "\n",
    "def get_company_profile(stock:str) -> str:\n",
    "    \"\"\"Get detail profile such as company name, sector name, primary name, number of employees of a stock\"\"\"\n",
    "\n",
    "    api_key = rapid_api_key\n",
    "    url = \"https://seeking-alpha.p.rapidapi.com/symbols/get-profile\"\n",
    "\n",
    "    querystring = {\"symbols\":stock.lower()}\n",
    "\n",
    "    headers = {\n",
    "        \"x-rapidapi-key\": api_key,\n",
    "        \"x-rapidapi-host\": \"seeking-alpha.p.rapidapi.com\"\n",
    "    }\n",
    "\n",
    "    response = requests.get(url, headers=headers, params=querystring)\n",
    "    \n",
    "    if response.status_code == 200:\n",
    "        data = response.json()\n",
    "        result = json.dumps(data)\n",
    "    else:\n",
    "        raise ToolException(f\"No data for {stock}\")\n",
    "    \n",
    "    return result\n",
    "\n",
    "def get_competitors(stock:str) -> str:\n",
    "    \"\"\"Get peers or competitors of a stock\"\"\"\n",
    "\n",
    "    api_key = rapid_api_key\n",
    "    url = \"https://seeking-alpha.p.rapidapi.com/symbols/get-peers\"\n",
    "\n",
    "    querystring = {\"symbol\":stock.lower()}\n",
    "\n",
    "    headers = {\n",
    "        \"x-rapidapi-key\": api_key,\n",
    "        \"x-rapidapi-host\": \"seeking-alpha.p.rapidapi.com\"\n",
    "    }\n",
    "\n",
    "    response = requests.get(url, headers=headers, params=querystring)\n",
    "    \n",
    "    if response.status_code == 200:\n",
    "        data = response.json()\n",
    "        result = json.dumps(data)\n",
    "    else:\n",
    "        raise ToolException(f\"No data for {stock}\")\n",
    "    \n",
    "    return result\n",
    "\n",
    "\n",
    "get_company_profile_tool = StructuredTool.from_function(\n",
    "    func=get_company_profile,\n",
    "    args_schema= SearchInput,\n",
    "    handle_tool_error=True, # add this\n",
    ")\n",
    "\n",
    "get_competitors_tool = StructuredTool.from_function(\n",
    "    func=get_competitors,\n",
    "    args_schema= SearchInput,\n",
    "    handle_tool_error=True, # add this\n",
    ")\n",
    "\n",
    "prompt = ChatPromptTemplate.from_messages([\n",
    "    (\"system\", \"you're a helpful assistant\"),\n",
    "    (\"human\", \"{input}\"),\n",
    "    (\"placeholder\", \"{agent_scratchpad}\"),\n",
    "])\n",
    "\n",
    "tools = [get_company_profile_tool, get_competitors_tool]\n",
    "\n",
    "agent = create_tool_calling_agent(llm, tools, prompt)\n",
    "agent_executor = AgentExecutor(agent=agent, tools=tools, verbose = True)\n"
   ]
  },
  {
   "cell_type": "code",
   "execution_count": 52,
   "metadata": {},
   "outputs": [
    {
     "name": "stdout",
     "output_type": "stream",
     "text": [
      "Question: I'm an investor, what is AAPLLLLLLL\n",
      "\n",
      "\n",
      "\u001b[1m> Entering new AgentExecutor chain...\u001b[0m\n",
      "\u001b[32;1m\u001b[1;3m\n",
      "Invoking: `get_company_profile` with `{'stock': 'AAPLLLLLLL'}`\n",
      "\n",
      "\n",
      "\u001b[0m\u001b[31;1m\u001b[1;3mStock ticker should only contain up to 4 alphabetic characters\u001b[0m\u001b[32;1m\u001b[1;3mI'm sorry, but the stock ticker should only contain up to 4 alphabetic characters. Could you please provide me with the correct stock ticker you are interested in?\u001b[0m\n",
      "\n",
      "\u001b[1m> Finished chain.\u001b[0m\n",
      "Answer: I'm sorry, but the stock ticker should only contain up to 4 alphabetic characters. Could you please provide me with the correct stock ticker you are interested in?\n"
     ]
    }
   ],
   "source": [
    "query = \"I'm an investor, what is AAPLLLLLLL\"\n",
    "print(\"Question:\", query)\n",
    "result = agent_executor.invoke({\"input\": query})\n",
    "print(\"Answer:\",result['output'])"
   ]
  },
  {
   "cell_type": "markdown",
   "metadata": {},
   "source": [
    "# Adding Memory"
   ]
  },
  {
   "cell_type": "markdown",
   "metadata": {},
   "source": [
    "As humans, memory is crucial. Similarly, in agents, we can also incorporate memory to provide context for ongoing conversations."
   ]
  },
  {
   "cell_type": "markdown",
   "metadata": {},
   "source": [
    "## Use case 1 without memory"
   ]
  },
  {
   "cell_type": "code",
   "execution_count": 53,
   "metadata": {},
   "outputs": [
    {
     "name": "stdout",
     "output_type": "stream",
     "text": [
      "Question: Hey, I'm Wilsen\n",
      "\n",
      "\n",
      "\u001b[1m> Entering new AgentExecutor chain...\u001b[0m\n",
      "\u001b[32;1m\u001b[1;3mHello Wilsen! How can I assist you today?\u001b[0m\n",
      "\n",
      "\u001b[1m> Finished chain.\u001b[0m\n",
      "Answer: Hello Wilsen! How can I assist you today?\n"
     ]
    }
   ],
   "source": [
    "query = \"Hey, I'm Wilsen\"\n",
    "print(\"Question:\", query)\n",
    "result = agent_executor.invoke({\"input\": query})\n",
    "print(\"Answer:\",result['output'])"
   ]
  },
  {
   "cell_type": "code",
   "execution_count": 55,
   "metadata": {},
   "outputs": [
    {
     "name": "stdout",
     "output_type": "stream",
     "text": [
      "Question: What's my name?\n",
      "\n",
      "\n",
      "\u001b[1m> Entering new AgentExecutor chain...\u001b[0m\n",
      "\u001b[32;1m\u001b[1;3mI'm sorry, but I don't have access to personal information like your name. How can I assist you today?\u001b[0m\n",
      "\n",
      "\u001b[1m> Finished chain.\u001b[0m\n",
      "Answer: I'm sorry, but I don't have access to personal information like your name. How can I assist you today?\n"
     ]
    }
   ],
   "source": [
    "query = \"What's my name?\"\n",
    "print(\"Question:\", query)\n",
    "result = agent_executor.invoke({\"input\": query})\n",
    "print(\"Answer:\",result['output'])"
   ]
  },
  {
   "cell_type": "markdown",
   "metadata": {},
   "source": [
    "## Use case 2 without memory"
   ]
  },
  {
   "cell_type": "code",
   "execution_count": 56,
   "metadata": {},
   "outputs": [
    {
     "name": "stdout",
     "output_type": "stream",
     "text": [
      "Question: Tell me about AAPL\n",
      "\n",
      "\n",
      "\u001b[1m> Entering new AgentExecutor chain...\u001b[0m\n",
      "\u001b[32;1m\u001b[1;3m\n",
      "Invoking: `get_company_profile` with `{'stock': 'AAPL'}`\n",
      "\n",
      "\n",
      "\u001b[0m\u001b[36;1m\u001b[1;3m{\"data\": [{\"id\": \"AAPL\", \"tickerId\": 146, \"attributes\": {\"longDesc\": \"Apple Inc. designs, manufactures, and markets smartphones, personal computers, tablets, wearables, and accessories worldwide. The company offers iPhone, a line of smartphones; Mac, a line of personal computers; iPad, a line of multi-purpose tablets; and wearables, home, and accessories comprising AirPods, Apple TV, Apple Watch, Beats products, and HomePod. It also provides AppleCare support and cloud services; and operates various platforms, including the App Store that allow customers to discover and download applications and digital content, such as books, music, video, games, and podcasts. In addition, the company offers various services, such as Apple Arcade, a game subscription service; Apple Fitness+, a personalized fitness service; Apple Music, which offers users a curated listening experience with on-demand radio stations; Apple News+, a subscription news and magazine service; Apple TV+, which offers exclusive original content; Apple Card, a co-branded credit card; and Apple Pay, a cashless payment service, as well as licenses its intellectual property. The company serves consumers, and small and mid-sized businesses; and the education, enterprise, and government markets. It distributes third-party applications for its products through the App Store. The company also sells its products through its retail and online stores, and direct sales force; and third-party cellular network carriers, wholesalers, retailers, and resellers. Apple Inc. was founded in 1976 and is headquartered in Cupertino, California.\", \"sectorname\": \"Information Technology\", \"sectorgics\": 45, \"primaryname\": \"Technology Hardware, Storage and Peripherals\", \"primarygics\": 45202030, \"numberOfEmployees\": 161000.0, \"yearfounded\": 1976, \"streetaddress\": \"One Apple Park Way\", \"streetaddress2\": null, \"streetaddress3\": null, \"streetaddress4\": null, \"city\": \"Cupertino\", \"state\": \"CA\", \"zipcode\": \"95014\", \"country\": \"United States\", \"officephonevalue\": \"408 996 1010\", \"webpage\": \"www.apple.com\", \"companyName\": \"Apple Inc.\", \"marketCap\": 3205896523740.0, \"totalEnterprise\": 3148149523740.0, \"totAnalystsRecommendations\": 44.0, \"fy1UpRevisions\": 26.0, \"fy1DownRevisions\": 14.0, \"divYield\": 0.47, \"eps\": 6.454569, \"lastDaily\": {\"rtTime\": \"2024-06-26T19:59:59.910+00:00\", \"rtSource\": \"RealTimeQuote\", \"last\": 213.25, \"open\": 211.5, \"close\": 213.25, \"low\": 210.64, \"high\": 214.86, \"volume\": 66213186, \"volumeAt\": \"2024-06-26T19:59:59.910+00:00\", \"at\": \"2024-06-27T01:30:25.696-04:00\"}, \"estimateEps\": 6.59271, \"debtEq\": 140.9682, \"totDebtCap\": 58.5007, \"ltDebtEquity\": 123.7714, \"ltDebtCap\": 51.3642, \"totLiabTotAssets\": 78.0107, \"impliedMarketCap\": null, \"shortIntPctFloat\": null, \"divTimeFrame\": \"forward\", \"divRate\": 1.0, \"peRatioFwd\": 32.3463340568598, \"lastClosePriceEarningsRatio\": 32.5672366153751, \"estimateFfo\": null, \"ffoPerShareDiluted\": null, \"dilutedEpsExclExtraItems\": null, \"high52\": null, \"low52\": null}}]}\u001b[0m\u001b[32;1m\u001b[1;3mApple Inc. (AAPL) is a technology company that designs, manufactures, and markets smartphones, personal computers, tablets, wearables, and accessories globally. Here are some key details about Apple Inc.:\n",
      "\n",
      "- **Sector:** Information Technology\n",
      "- **Primary Industry:** Technology Hardware, Storage and Peripherals\n",
      "- **Number of Employees:** 161,000\n",
      "- **Year Founded:** 1976\n",
      "- **Headquarters:** Cupertino, California\n",
      "- **Company Website:** [www.apple.com](www.apple.com)\n",
      "- **Market Cap:** $3,205,896,523,740\n",
      "- **Total Enterprise Value:** $3,148,149,523,740\n",
      "- **Current Stock Price:** $213.25\n",
      "- **PE Ratio (Forward):** 32.35\n",
      "- **Dividend Yield:** 0.47%\n",
      "- **Last Close Price Earnings Ratio:** 32.57\n",
      "\n",
      "Apple offers a range of products including iPhone, Mac, iPad, wearables, home accessories, and services like AppleCare support, cloud services, App Store, Apple Music, Apple TV+, and more. The company serves consumers, businesses, education, enterprise, and government markets.\n",
      "\n",
      "If you'd like to know more specific details or have any other questions about Apple Inc., feel free to ask!\u001b[0m\n",
      "\n",
      "\u001b[1m> Finished chain.\u001b[0m\n",
      "Answer: Apple Inc. (AAPL) is a technology company that designs, manufactures, and markets smartphones, personal computers, tablets, wearables, and accessories globally. Here are some key details about Apple Inc.:\n",
      "\n",
      "- **Sector:** Information Technology\n",
      "- **Primary Industry:** Technology Hardware, Storage and Peripherals\n",
      "- **Number of Employees:** 161,000\n",
      "- **Year Founded:** 1976\n",
      "- **Headquarters:** Cupertino, California\n",
      "- **Company Website:** [www.apple.com](www.apple.com)\n",
      "- **Market Cap:** $3,205,896,523,740\n",
      "- **Total Enterprise Value:** $3,148,149,523,740\n",
      "- **Current Stock Price:** $213.25\n",
      "- **PE Ratio (Forward):** 32.35\n",
      "- **Dividend Yield:** 0.47%\n",
      "- **Last Close Price Earnings Ratio:** 32.57\n",
      "\n",
      "Apple offers a range of products including iPhone, Mac, iPad, wearables, home accessories, and services like AppleCare support, cloud services, App Store, Apple Music, Apple TV+, and more. The company serves consumers, businesses, education, enterprise, and government markets.\n",
      "\n",
      "If you'd like to know more specific details or have any other questions about Apple Inc., feel free to ask!\n"
     ]
    }
   ],
   "source": [
    "query = \"Tell me about AAPL\"\n",
    "print(\"Question:\", query)\n",
    "result = agent_executor.invoke({\"input\": query})\n",
    "print(\"Answer:\",result['output'])"
   ]
  },
  {
   "cell_type": "code",
   "execution_count": 57,
   "metadata": {},
   "outputs": [
    {
     "name": "stdout",
     "output_type": "stream",
     "text": [
      "Question: How about the competitor?\n",
      "\n",
      "\n",
      "\u001b[1m> Entering new AgentExecutor chain...\u001b[0m\n",
      "\u001b[32;1m\u001b[1;3mSure, I can help you with that. Could you please provide me with the stock ticker of the company for which you would like to know the competitors?\u001b[0m\n",
      "\n",
      "\u001b[1m> Finished chain.\u001b[0m\n",
      "Answer: Sure, I can help you with that. Could you please provide me with the stock ticker of the company for which you would like to know the competitors?\n"
     ]
    }
   ],
   "source": [
    "query = \"How about the competitor?\"\n",
    "print(\"Question:\", query)\n",
    "result = agent_executor.invoke({\"input\": query})\n",
    "print(\"Answer:\",result['output'])"
   ]
  },
  {
   "cell_type": "markdown",
   "metadata": {},
   "source": [
    "## How to add?"
   ]
  },
  {
   "cell_type": "code",
   "execution_count": null,
   "metadata": {},
   "outputs": [],
   "source": [
    "from pydantic.v1 import BaseModel, Field, validator\n",
    "from datetime import datetime\n",
    "from langchain_core.tools import StructuredTool\n",
    "from langchain_core.tools import ToolException\n",
    "\n",
    "class SearchInput(BaseModel):\n",
    "    stock: str = Field(description=\"Stock ticker to search for\")\n",
    "    \n",
    "    @validator('stock')\n",
    "    def validate_stock(cls, v):\n",
    "        if not v.isalpha() or len(v) > 4:\n",
    "            raise ToolException('Stock ticker should only contain up to 4 alphabetic characters')\n",
    "        return v\n",
    "\n",
    "def get_company_profile(stock:str) -> str:\n",
    "    \"\"\"Get detail profile such as company name, sector name, primary name, number of employees of a stock\"\"\"\n",
    "\n",
    "    api_key = rapid_api_key\n",
    "    url = \"https://seeking-alpha.p.rapidapi.com/symbols/get-profile\"\n",
    "\n",
    "    querystring = {\"symbols\":stock.lower()}\n",
    "\n",
    "    headers = {\n",
    "        \"x-rapidapi-key\": api_key,\n",
    "        \"x-rapidapi-host\": \"seeking-alpha.p.rapidapi.com\"\n",
    "    }\n",
    "\n",
    "    response = requests.get(url, headers=headers, params=querystring)\n",
    "    \n",
    "    if response.status_code == 200:\n",
    "        data = response.json()\n",
    "        result = json.dumps(data)\n",
    "    else:\n",
    "        raise ToolException(f\"No data for {stock}\")\n",
    "    \n",
    "    return result\n",
    "\n",
    "def get_competitors(stock:str) -> str:\n",
    "    \"\"\"Get peers or competitors of a stock\"\"\"\n",
    "\n",
    "    api_key = rapid_api_key\n",
    "    url = \"https://seeking-alpha.p.rapidapi.com/symbols/get-peers\"\n",
    "\n",
    "    querystring = {\"symbol\":stock.lower()}\n",
    "\n",
    "    headers = {\n",
    "        \"x-rapidapi-key\": api_key,\n",
    "        \"x-rapidapi-host\": \"seeking-alpha.p.rapidapi.com\"\n",
    "    }\n",
    "\n",
    "    response = requests.get(url, headers=headers, params=querystring)\n",
    "    \n",
    "    if response.status_code == 200:\n",
    "        data = response.json()\n",
    "        result = json.dumps(data)\n",
    "    else:\n",
    "        raise ToolException(f\"No data for {stock}\")\n",
    "    \n",
    "    return result\n",
    "\n",
    "\n",
    "get_company_profile_tool = StructuredTool.from_function(\n",
    "    func=get_company_profile,\n",
    "    args_schema= SearchInput,\n",
    "    handle_tool_error=True, # add this\n",
    ")\n",
    "\n",
    "get_competitors_tool = StructuredTool.from_function(\n",
    "    func=get_competitors,\n",
    "    args_schema= SearchInput,\n",
    "    handle_tool_error=True, # add this\n",
    ")\n",
    "\n",
    "prompt = ChatPromptTemplate.from_messages([\n",
    "    (\"system\", \"you're a helpful assistant\"),\n",
    "    (\"human\", \"{input}\"),\n",
    "    (\"placeholder\", \"{agent_scratchpad}\"),\n",
    "])\n",
    "\n",
    "tools = [get_company_profile_tool, get_competitors_tool]\n",
    "\n",
    "agent = create_tool_calling_agent(llm, tools, prompt)\n",
    "agent_executor = AgentExecutor(agent=agent, tools=tools, verbose = True)\n"
   ]
  },
  {
   "cell_type": "code",
   "execution_count": 58,
   "metadata": {},
   "outputs": [
    {
     "name": "stdout",
     "output_type": "stream",
     "text": [
      "History: {}\n"
     ]
    }
   ],
   "source": [
    "from langchain_community.chat_message_histories import ChatMessageHistory\n",
    "from langchain_core.runnables.history import RunnableWithMessageHistory\n",
    "from langchain_core.chat_history import BaseChatMessageHistory\n",
    "from langchain_core.prompts import ChatPromptTemplate, MessagesPlaceholder\n",
    "\n",
    "prompt = ChatPromptTemplate.from_messages([\n",
    "    (\"system\", \"you're a helpful assistant\"),\n",
    "    (\"placeholder\", \"{history}\"), # add this or could be: MessagesPlaceholder(variable_name=\"history\"),\n",
    "    (\"human\", \"{input}\"),\n",
    "    (\"placeholder\", \"{agent_scratchpad}\"),\n",
    "])\n",
    "\n",
    "tools = [get_company_profile_tool, get_competitors_tool]\n",
    "\n",
    "agent = create_tool_calling_agent(llm, tools, prompt)\n",
    "agent_executor = AgentExecutor(agent=agent, tools=tools, verbose = True)\n",
    "\n",
    "store = {} # This dictionary acts like a dummy database that save the message history\n",
    "print(\"History:\", store)\n",
    "\n",
    "def get_session_history(session_id: str) -> BaseChatMessageHistory:\n",
    "    if session_id not in store:\n",
    "        store[session_id] = ChatMessageHistory()\n",
    "    return store[session_id]\n",
    "\n",
    "agent_executor_w_memory = RunnableWithMessageHistory(\n",
    "    agent_executor,\n",
    "    get_session_history,\n",
    "    input_messages_key=\"input\",\n",
    "    history_messages_key=\"history\",\n",
    ")\n"
   ]
  },
  {
   "cell_type": "markdown",
   "metadata": {},
   "source": [
    "## Use case 1 with memory"
   ]
  },
  {
   "cell_type": "code",
   "execution_count": 59,
   "metadata": {},
   "outputs": [
    {
     "name": "stderr",
     "output_type": "stream",
     "text": [
      "Parent run eed92e66-03c5-4927-bf42-818c9d34a5f4 not found for run a1121e8d-ed4d-4ad6-b47c-5e6c286eb694. Treating as a root run.\n"
     ]
    },
    {
     "name": "stdout",
     "output_type": "stream",
     "text": [
      "\n",
      "\n",
      "\u001b[1m> Entering new AgentExecutor chain...\u001b[0m\n",
      "\u001b[32;1m\u001b[1;3mHello Wilsen! How can I assist you today?\u001b[0m\n",
      "\n",
      "\u001b[1m> Finished chain.\u001b[0m\n"
     ]
    },
    {
     "data": {
      "text/plain": [
       "{'input': \"Hey, I'm Wilsen\",\n",
       " 'history': [],\n",
       " 'output': 'Hello Wilsen! How can I assist you today?'}"
      ]
     },
     "execution_count": 59,
     "metadata": {},
     "output_type": "execute_result"
    }
   ],
   "source": [
    "agent_executor_w_memory.invoke(\n",
    "    {\"input\": \"Hey, I'm Wilsen\"},\n",
    "    config={\"configurable\": {\"session_id\": \"abc123\"}},\n",
    ")"
   ]
  },
  {
   "cell_type": "code",
   "execution_count": 60,
   "metadata": {},
   "outputs": [
    {
     "name": "stderr",
     "output_type": "stream",
     "text": [
      "Parent run c164461b-4ab8-42ce-8e4a-4883511265dc not found for run 9a3b0bfe-2f21-43fb-8177-18cae7e8334f. Treating as a root run.\n"
     ]
    },
    {
     "name": "stdout",
     "output_type": "stream",
     "text": [
      "\n",
      "\n",
      "\u001b[1m> Entering new AgentExecutor chain...\u001b[0m\n",
      "\u001b[32;1m\u001b[1;3mYour name is Wilsen. How can I help you today, Wilsen?\u001b[0m\n",
      "\n",
      "\u001b[1m> Finished chain.\u001b[0m\n"
     ]
    },
    {
     "data": {
      "text/plain": [
       "{'input': \"What's my name?\",\n",
       " 'history': [HumanMessage(content=\"Hey, I'm Wilsen\"),\n",
       "  AIMessage(content='Hello Wilsen! How can I assist you today?')],\n",
       " 'output': 'Your name is Wilsen. How can I help you today, Wilsen?'}"
      ]
     },
     "execution_count": 60,
     "metadata": {},
     "output_type": "execute_result"
    }
   ],
   "source": [
    "agent_executor_w_memory.invoke(\n",
    "    {\"input\": \"What's my name?\"},\n",
    "    config={\"configurable\": {\"session_id\": \"abc123\"}},\n",
    ")"
   ]
  },
  {
   "cell_type": "markdown",
   "metadata": {},
   "source": [
    "## Use case 2 with memory"
   ]
  },
  {
   "cell_type": "code",
   "execution_count": 61,
   "metadata": {},
   "outputs": [
    {
     "name": "stderr",
     "output_type": "stream",
     "text": [
      "Parent run 8da7f55e-664b-4f87-97f8-578e333151e4 not found for run 1e76972a-e3e2-4ea8-a229-39ffb23379ce. Treating as a root run.\n"
     ]
    },
    {
     "name": "stdout",
     "output_type": "stream",
     "text": [
      "\n",
      "\n",
      "\u001b[1m> Entering new AgentExecutor chain...\u001b[0m\n",
      "\u001b[32;1m\u001b[1;3m\n",
      "Invoking: `get_company_profile` with `{'stock': 'AAPL'}`\n",
      "\n",
      "\n",
      "\u001b[0m\u001b[36;1m\u001b[1;3m{\"data\": [{\"id\": \"AAPL\", \"tickerId\": 146, \"attributes\": {\"longDesc\": \"Apple Inc. designs, manufactures, and markets smartphones, personal computers, tablets, wearables, and accessories worldwide. The company offers iPhone, a line of smartphones; Mac, a line of personal computers; iPad, a line of multi-purpose tablets; and wearables, home, and accessories comprising AirPods, Apple TV, Apple Watch, Beats products, and HomePod. It also provides AppleCare support and cloud services; and operates various platforms, including the App Store that allow customers to discover and download applications and digital content, such as books, music, video, games, and podcasts. In addition, the company offers various services, such as Apple Arcade, a game subscription service; Apple Fitness+, a personalized fitness service; Apple Music, which offers users a curated listening experience with on-demand radio stations; Apple News+, a subscription news and magazine service; Apple TV+, which offers exclusive original content; Apple Card, a co-branded credit card; and Apple Pay, a cashless payment service, as well as licenses its intellectual property. The company serves consumers, and small and mid-sized businesses; and the education, enterprise, and government markets. It distributes third-party applications for its products through the App Store. The company also sells its products through its retail and online stores, and direct sales force; and third-party cellular network carriers, wholesalers, retailers, and resellers. Apple Inc. was founded in 1976 and is headquartered in Cupertino, California.\", \"sectorname\": \"Information Technology\", \"sectorgics\": 45, \"primaryname\": \"Technology Hardware, Storage and Peripherals\", \"primarygics\": 45202030, \"numberOfEmployees\": 161000.0, \"yearfounded\": 1976, \"streetaddress\": \"One Apple Park Way\", \"streetaddress2\": null, \"streetaddress3\": null, \"streetaddress4\": null, \"city\": \"Cupertino\", \"state\": \"CA\", \"zipcode\": \"95014\", \"country\": \"United States\", \"officephonevalue\": \"408 996 1010\", \"webpage\": \"www.apple.com\", \"companyName\": \"Apple Inc.\", \"marketCap\": 3205896523740.0, \"totalEnterprise\": 3148149523740.0, \"totAnalystsRecommendations\": 44.0, \"fy1UpRevisions\": 26.0, \"fy1DownRevisions\": 14.0, \"divYield\": 0.47, \"eps\": 6.454569, \"lastDaily\": {\"rtTime\": \"2024-06-26T19:59:59.910+00:00\", \"rtSource\": \"RealTimeQuote\", \"last\": 213.25, \"open\": 211.5, \"close\": 213.25, \"low\": 210.64, \"high\": 214.86, \"volume\": 66213186, \"volumeAt\": \"2024-06-26T19:59:59.910+00:00\", \"at\": \"2024-06-27T01:30:25.696-04:00\"}, \"estimateEps\": 6.59271, \"debtEq\": 140.9682, \"totDebtCap\": 58.5007, \"ltDebtEquity\": 123.7714, \"ltDebtCap\": 51.3642, \"totLiabTotAssets\": 78.0107, \"impliedMarketCap\": null, \"shortIntPctFloat\": null, \"divTimeFrame\": \"forward\", \"divRate\": 1.0, \"peRatioFwd\": 32.3463340568598, \"lastClosePriceEarningsRatio\": 32.5672366153751, \"estimateFfo\": null, \"ffoPerShareDiluted\": null, \"dilutedEpsExclExtraItems\": null, \"high52\": null, \"low52\": null}}]}\u001b[0m\u001b[32;1m\u001b[1;3mApple Inc. (AAPL) is a technology company that designs, manufactures, and markets smartphones, personal computers, tablets, wearables, and accessories worldwide. Here are some key details about Apple Inc.:\n",
      "\n",
      "- **Sector:** Information Technology\n",
      "- **Primary Industry:** Technology Hardware, Storage and Peripherals\n",
      "- **Number of Employees:** 161,000\n",
      "- **Year Founded:** 1976\n",
      "- **Headquarters:** Cupertino, California\n",
      "- **Website:** [www.apple.com](https://www.apple.com)\n",
      "- **Market Cap:** $3.21 trillion\n",
      "- **Current Stock Price:** $213.25\n",
      "- **PE Ratio (Forward):** 32.35\n",
      "- **Dividend Yield:** 0.47%\n",
      "- **Analysts Recommendations:** 44\n",
      "- **EPS (Earnings Per Share):** $6.45\n",
      "\n",
      "Apple offers a range of products including iPhone, Mac, iPad, wearables, home accessories, and services like AppleCare support, App Store, Apple Music, Apple TV+, and more.\n",
      "\n",
      "If you'd like to know more specific details or have any other questions about Apple Inc., feel free to ask!\u001b[0m\n",
      "\n",
      "\u001b[1m> Finished chain.\u001b[0m\n"
     ]
    },
    {
     "data": {
      "text/plain": [
       "{'input': 'Tell me about AAPL',\n",
       " 'history': [HumanMessage(content=\"Hey, I'm Wilsen\"),\n",
       "  AIMessage(content='Hello Wilsen! How can I assist you today?'),\n",
       "  HumanMessage(content=\"What's my name?\"),\n",
       "  AIMessage(content='Your name is Wilsen. How can I help you today, Wilsen?')],\n",
       " 'output': \"Apple Inc. (AAPL) is a technology company that designs, manufactures, and markets smartphones, personal computers, tablets, wearables, and accessories worldwide. Here are some key details about Apple Inc.:\\n\\n- **Sector:** Information Technology\\n- **Primary Industry:** Technology Hardware, Storage and Peripherals\\n- **Number of Employees:** 161,000\\n- **Year Founded:** 1976\\n- **Headquarters:** Cupertino, California\\n- **Website:** [www.apple.com](https://www.apple.com)\\n- **Market Cap:** $3.21 trillion\\n- **Current Stock Price:** $213.25\\n- **PE Ratio (Forward):** 32.35\\n- **Dividend Yield:** 0.47%\\n- **Analysts Recommendations:** 44\\n- **EPS (Earnings Per Share):** $6.45\\n\\nApple offers a range of products including iPhone, Mac, iPad, wearables, home accessories, and services like AppleCare support, App Store, Apple Music, Apple TV+, and more.\\n\\nIf you'd like to know more specific details or have any other questions about Apple Inc., feel free to ask!\"}"
      ]
     },
     "execution_count": 61,
     "metadata": {},
     "output_type": "execute_result"
    }
   ],
   "source": [
    "agent_executor_w_memory.invoke(\n",
    "    {\"input\": \"Tell me about AAPL\"},\n",
    "    config={\"configurable\": {\"session_id\": \"abc123\"}},\n",
    ")"
   ]
  },
  {
   "cell_type": "code",
   "execution_count": 62,
   "metadata": {},
   "outputs": [
    {
     "name": "stderr",
     "output_type": "stream",
     "text": [
      "Parent run 8104f7c2-a850-4963-b90f-cca470a282ad not found for run bde445bd-49dc-4bad-9e63-2760a9f46fb0. Treating as a root run.\n"
     ]
    },
    {
     "name": "stdout",
     "output_type": "stream",
     "text": [
      "\n",
      "\n",
      "\u001b[1m> Entering new AgentExecutor chain...\u001b[0m\n",
      "\u001b[32;1m\u001b[1;3m\n",
      "Invoking: `get_competitors` with `{'stock': 'AAPL'}`\n",
      "\n",
      "\n",
      "\u001b[0m\u001b[33;1m\u001b[1;3m{\"data\": [{\"id\": \"569700\", \"type\": \"ticker\", \"attributes\": {\"slug\": \"dell\", \"iexSlug\": \"dell\", \"name\": \"DELL\", \"companyName\": \"Dell Technologies Inc.\", \"equityType\": \"stocks\", \"indexGroup\": null, \"currency\": \"USD\", \"tradingViewSlug\": \"NYSE:DELL\", \"exchange\": \"NYSE\", \"exchangeDescription\": null, \"company\": \"Dell Technologies Inc.\", \"isBdc\": false, \"visible\": true, \"searchable\": true, \"private\": false, \"pending\": false, \"isDefunct\": false, \"followersCount\": 92184, \"fundTypeId\": 0, \"articleRtaCount\": 8, \"newsRtaCount\": 28, \"divYieldType\": \"forward\", \"primaryEpsConsensusMeanType\": \"normalized\", \"mergedOn\": null, \"isReit\": false}, \"relationships\": {\"sector\": {\"data\": {\"id\": \"45\", \"type\": \"sector\"}}, \"subIndustry\": {\"data\": {\"id\": \"45202030\", \"type\": \"subIndustry\"}}}, \"meta\": {\"companyLogoUrl\": \"https://static.seekingalpha.com/cdn/iex/stable/stock/dell/logo?asImage=true\", \"companyLogoUrlLight\": \"https://static.seekingalpha.com/cdn/s3/company_logos/mark_vector_light/DELL\", \"companyLogoUrlDark\": \"https://static.seekingalpha.com/cdn/s3/company_logos/mark_vector_dark/DELL\"}}, {\"id\": \"584719\", \"type\": \"ticker\", \"attributes\": {\"slug\": \"xiacy\", \"iexSlug\": \"xiacy\", \"name\": \"XIACY\", \"companyName\": \"Xiaomi Corporation\", \"equityType\": \"stocks\", \"indexGroup\": null, \"currency\": \"USD\", \"tradingViewSlug\": \"OTC:XIACY\", \"exchange\": \"Pink Current Info\", \"exchangeDescription\": null, \"company\": \"Xiaomi Corporation\", \"isBdc\": false, \"visible\": true, \"searchable\": true, \"private\": false, \"pending\": false, \"isDefunct\": false, \"followersCount\": 2775, \"fundTypeId\": 8, \"articleRtaCount\": 1, \"newsRtaCount\": 5, \"divYieldType\": null, \"primaryEpsConsensusMeanType\": \"normalized\", \"mergedOn\": null, \"isReit\": false}, \"relationships\": {\"sector\": {\"data\": {\"id\": \"45\", \"type\": \"sector\"}}, \"subIndustry\": {\"data\": {\"id\": \"45202030\", \"type\": \"subIndustry\"}}}, \"meta\": {\"companyLogoUrl\": \"https://static.seekingalpha.com/cdn/iex/stable/stock/xiacy/logo?asImage=true\", \"companyLogoUrlLight\": \"https://static.seekingalpha.com/cdn/s3/company_logos/mark_vector_light/XIACY\", \"companyLogoUrlDark\": \"https://static.seekingalpha.com/cdn/s3/company_logos/mark_vector_dark/XIACY\"}}, {\"id\": \"7098\", \"type\": \"ticker\", \"attributes\": {\"slug\": \"smci\", \"iexSlug\": \"smci\", \"name\": \"SMCI\", \"companyName\": \"Super Micro Computer, Inc.\", \"equityType\": \"stocks\", \"indexGroup\": null, \"currency\": \"USD\", \"tradingViewSlug\": \"NASDAQ:SMCI\", \"exchange\": \"NASDAQ\", \"exchangeDescription\": null, \"company\": \"Super Micro Computer, Inc.\", \"isBdc\": false, \"visible\": true, \"searchable\": true, \"private\": false, \"pending\": false, \"isDefunct\": false, \"followersCount\": 66264, \"fundTypeId\": 0, \"articleRtaCount\": 18, \"newsRtaCount\": 21, \"divYieldType\": null, \"primaryEpsConsensusMeanType\": \"normalized\", \"mergedOn\": null, \"isReit\": false}, \"relationships\": {\"sector\": {\"data\": {\"id\": \"45\", \"type\": \"sector\"}}, \"subIndustry\": {\"data\": {\"id\": \"45202030\", \"type\": \"subIndustry\"}}}, \"meta\": {\"companyLogoUrl\": \"https://static.seekingalpha.com/cdn/iex/stable/stock/smci/logo?asImage=true\", \"companyLogoUrlLight\": \"https://static.seekingalpha.com/cdn/s3/company_logos/mark_vector_light/SMCI\", \"companyLogoUrlDark\": \"https://static.seekingalpha.com/cdn/s3/company_logos/mark_vector_dark/SMCI\"}}, {\"id\": \"933\", \"type\": \"ticker\", \"attributes\": {\"slug\": \"hpq\", \"iexSlug\": \"hpq\", \"name\": \"HPQ\", \"companyName\": \"HP Inc.\", \"equityType\": \"stocks\", \"indexGroup\": null, \"currency\": \"USD\", \"tradingViewSlug\": \"NYSE:HPQ\", \"exchange\": \"NYSE\", \"exchangeDescription\": null, \"company\": \"HP Inc.\", \"isBdc\": false, \"visible\": true, \"searchable\": true, \"private\": false, \"pending\": false, \"isDefunct\": false, \"followersCount\": 130225, \"fundTypeId\": 0, \"articleRtaCount\": 5, \"newsRtaCount\": 8, \"divYieldType\": \"forward\", \"primaryEpsConsensusMeanType\": \"normalized\", \"mergedOn\": null, \"isReit\": false}, \"relationships\": {\"sector\": {\"data\": {\"id\": \"45\", \"type\": \"sector\"}}, \"subIndustry\": {\"data\": {\"id\": \"45202030\", \"type\": \"subIndustry\"}}}, \"meta\": {\"companyLogoUrl\": \"https://static.seekingalpha.com/cdn/iex/stable/stock/hpq/logo?asImage=true\", \"companyLogoUrlLight\": \"https://static.seekingalpha.com/cdn/s3/company_logos/mark_vector_light/HPQ\", \"companyLogoUrlDark\": \"https://static.seekingalpha.com/cdn/s3/company_logos/mark_vector_dark/HPQ\"}}, {\"id\": \"24828\", \"type\": \"ticker\", \"attributes\": {\"slug\": \"fujiy\", \"iexSlug\": \"fujiy\", \"name\": \"FUJIY\", \"companyName\": \"FUJIFILM Holdings Corporation\", \"equityType\": \"stocks\", \"indexGroup\": null, \"currency\": \"USD\", \"tradingViewSlug\": \"OTC:FUJIY\", \"exchange\": \"Pink Limited Info\", \"exchangeDescription\": null, \"company\": \"FUJIFILM Holdings Corporation\", \"isBdc\": false, \"visible\": true, \"searchable\": true, \"private\": false, \"pending\": false, \"isDefunct\": false, \"followersCount\": 1507, \"fundTypeId\": 8, \"articleRtaCount\": 1, \"newsRtaCount\": 1, \"divYieldType\": \"historic\", \"primaryEpsConsensusMeanType\": \"gaap\", \"mergedOn\": null, \"isReit\": false}, \"relationships\": {\"sector\": {\"data\": {\"id\": \"45\", \"type\": \"sector\"}}, \"subIndustry\": {\"data\": {\"id\": \"45202030\", \"type\": \"subIndustry\"}}}, \"meta\": {\"companyLogoUrl\": \"https://static.seekingalpha.com/cdn/iex/stable/stock/fujiy/logo?asImage=true\", \"companyLogoUrlLight\": \"https://static.seekingalpha.com/cdn/s3/company_logos/mark_vector_light/FUJIY\", \"companyLogoUrlDark\": \"https://static.seekingalpha.com/cdn/s3/company_logos/mark_vector_dark/FUJIY\"}}], \"included\": [{\"id\": \"45\", \"type\": \"sector\", \"attributes\": {\"name\": \"Information Technology\", \"quant_tickers_count\": 557}, \"meta\": {\"screener_links\": {\"self\": \"/screeners/9679329f-Top-Technology-Stocks\", \"canonical\": \"https://seekingalpha.com/screeners/9679329f-Top-Technology-Stocks\"}}}, {\"id\": \"45202030\", \"type\": \"sub_industry\", \"attributes\": {\"name\": \"Technology Hardware, Storage and Peripherals\", \"quant_tickers_count\": 28}, \"meta\": {\"screener_links\": {\"self\": \"/screeners/9409aed04c-Top-Technology-Hardware--Storage-and-Peripherals-Stocks\", \"canonical\": \"https://seekingalpha.com/screeners/9409aed04c-Top-Technology-Hardware--Storage-and-Peripherals-Stocks\"}}}], \"meta\": {\"isFund\": false}}\u001b[0m\u001b[32;1m\u001b[1;3mHere are some competitors of Apple Inc. (AAPL) in the technology hardware, storage, and peripherals industry:\n",
      "\n",
      "1. **Dell Technologies Inc. (DELL)**\n",
      "   - **Sector:** Information Technology\n",
      "   - **Industry:** Technology Hardware, Storage and Peripherals\n",
      "   - **Exchange:** NYSE\n",
      "   - **Market Cap:** Not Available\n",
      "   - **Dividend Yield:** Not Available\n",
      "   - **Website:** [Dell Technologies Inc.](https://www.dell.com)\n",
      "   - ![Dell Technologies Inc. Logo](https://static.seekingalpha.com/cdn/s3/company_logos/mark_vector_light/DELL)\n",
      "\n",
      "2. **Xiaomi Corporation (XIACY)**\n",
      "   - **Sector:** Information Technology\n",
      "   - **Industry:** Technology Hardware, Storage and Peripherals\n",
      "   - **Exchange:** Pink Current Info\n",
      "   - **Market Cap:** Not Available\n",
      "   - **Dividend Yield:** Not Available\n",
      "   - **Website:** [Xiaomi Corporation](https://www.mi.com)\n",
      "   - ![Xiaomi Corporation Logo](https://static.seekingalpha.com/cdn/s3/company_logos/mark_vector_light/XIACY)\n",
      "\n",
      "3. **Super Micro Computer, Inc. (SMCI)**\n",
      "   - **Sector:** Information Technology\n",
      "   - **Industry:** Technology Hardware, Storage and Peripherals\n",
      "   - **Exchange:** NASDAQ\n",
      "   - **Market Cap:** Not Available\n",
      "   - **Dividend Yield:** Not Available\n",
      "   - **Website:** [Super Micro Computer, Inc.](https://www.supermicro.com)\n",
      "   - ![Super Micro Computer, Inc. Logo](https://static.seekingalpha.com/cdn/s3/company_logos/mark_vector_light/SMCI)\n",
      "\n",
      "4. **HP Inc. (HPQ)**\n",
      "   - **Sector:** Information Technology\n",
      "   - **Industry:** Technology Hardware, Storage and Peripherals\n",
      "   - **Exchange:** NYSE\n",
      "   - **Market Cap:** Not Available\n",
      "   - **Dividend Yield:** Not Available\n",
      "   - **Website:** [HP Inc.](https://www.hp.com)\n",
      "   - ![HP Inc. Logo](https://static.seekingalpha.com/cdn/s3/company_logos/mark_vector_light/HPQ)\n",
      "\n",
      "5. **FUJIFILM Holdings Corporation (FUJIY)**\n",
      "   - **Sector:** Information Technology\n",
      "   - **Industry:** Technology Hardware, Storage and Peripherals\n",
      "   - **Exchange:** Pink Limited Info\n",
      "   - **Market Cap:** Not Available\n",
      "   - **Dividend Yield:** Not Available\n",
      "   - **Website:** [FUJIFILM Holdings Corporation](https://www.fujifilm.com)\n",
      "   - ![FUJIFILM Holdings Corporation Logo](https://static.seekingalpha.com/cdn/s3/company_logos/mark_vector_light/FUJIY)\n",
      "\n",
      "These are some of the competitors of Apple Inc. in the technology hardware, storage, and peripherals industry. If you need more information or have any other questions, feel free to ask!\u001b[0m\n",
      "\n",
      "\u001b[1m> Finished chain.\u001b[0m\n"
     ]
    },
    {
     "data": {
      "text/plain": [
       "{'input': 'How about the competitor?',\n",
       " 'history': [HumanMessage(content=\"Hey, I'm Wilsen\"),\n",
       "  AIMessage(content='Hello Wilsen! How can I assist you today?'),\n",
       "  HumanMessage(content=\"What's my name?\"),\n",
       "  AIMessage(content='Your name is Wilsen. How can I help you today, Wilsen?'),\n",
       "  HumanMessage(content='Tell me about AAPL'),\n",
       "  AIMessage(content=\"Apple Inc. (AAPL) is a technology company that designs, manufactures, and markets smartphones, personal computers, tablets, wearables, and accessories worldwide. Here are some key details about Apple Inc.:\\n\\n- **Sector:** Information Technology\\n- **Primary Industry:** Technology Hardware, Storage and Peripherals\\n- **Number of Employees:** 161,000\\n- **Year Founded:** 1976\\n- **Headquarters:** Cupertino, California\\n- **Website:** [www.apple.com](https://www.apple.com)\\n- **Market Cap:** $3.21 trillion\\n- **Current Stock Price:** $213.25\\n- **PE Ratio (Forward):** 32.35\\n- **Dividend Yield:** 0.47%\\n- **Analysts Recommendations:** 44\\n- **EPS (Earnings Per Share):** $6.45\\n\\nApple offers a range of products including iPhone, Mac, iPad, wearables, home accessories, and services like AppleCare support, App Store, Apple Music, Apple TV+, and more.\\n\\nIf you'd like to know more specific details or have any other questions about Apple Inc., feel free to ask!\")],\n",
       " 'output': 'Here are some competitors of Apple Inc. (AAPL) in the technology hardware, storage, and peripherals industry:\\n\\n1. **Dell Technologies Inc. (DELL)**\\n   - **Sector:** Information Technology\\n   - **Industry:** Technology Hardware, Storage and Peripherals\\n   - **Exchange:** NYSE\\n   - **Market Cap:** Not Available\\n   - **Dividend Yield:** Not Available\\n   - **Website:** [Dell Technologies Inc.](https://www.dell.com)\\n   - ![Dell Technologies Inc. Logo](https://static.seekingalpha.com/cdn/s3/company_logos/mark_vector_light/DELL)\\n\\n2. **Xiaomi Corporation (XIACY)**\\n   - **Sector:** Information Technology\\n   - **Industry:** Technology Hardware, Storage and Peripherals\\n   - **Exchange:** Pink Current Info\\n   - **Market Cap:** Not Available\\n   - **Dividend Yield:** Not Available\\n   - **Website:** [Xiaomi Corporation](https://www.mi.com)\\n   - ![Xiaomi Corporation Logo](https://static.seekingalpha.com/cdn/s3/company_logos/mark_vector_light/XIACY)\\n\\n3. **Super Micro Computer, Inc. (SMCI)**\\n   - **Sector:** Information Technology\\n   - **Industry:** Technology Hardware, Storage and Peripherals\\n   - **Exchange:** NASDAQ\\n   - **Market Cap:** Not Available\\n   - **Dividend Yield:** Not Available\\n   - **Website:** [Super Micro Computer, Inc.](https://www.supermicro.com)\\n   - ![Super Micro Computer, Inc. Logo](https://static.seekingalpha.com/cdn/s3/company_logos/mark_vector_light/SMCI)\\n\\n4. **HP Inc. (HPQ)**\\n   - **Sector:** Information Technology\\n   - **Industry:** Technology Hardware, Storage and Peripherals\\n   - **Exchange:** NYSE\\n   - **Market Cap:** Not Available\\n   - **Dividend Yield:** Not Available\\n   - **Website:** [HP Inc.](https://www.hp.com)\\n   - ![HP Inc. Logo](https://static.seekingalpha.com/cdn/s3/company_logos/mark_vector_light/HPQ)\\n\\n5. **FUJIFILM Holdings Corporation (FUJIY)**\\n   - **Sector:** Information Technology\\n   - **Industry:** Technology Hardware, Storage and Peripherals\\n   - **Exchange:** Pink Limited Info\\n   - **Market Cap:** Not Available\\n   - **Dividend Yield:** Not Available\\n   - **Website:** [FUJIFILM Holdings Corporation](https://www.fujifilm.com)\\n   - ![FUJIFILM Holdings Corporation Logo](https://static.seekingalpha.com/cdn/s3/company_logos/mark_vector_light/FUJIY)\\n\\nThese are some of the competitors of Apple Inc. in the technology hardware, storage, and peripherals industry. If you need more information or have any other questions, feel free to ask!'}"
      ]
     },
     "execution_count": 62,
     "metadata": {},
     "output_type": "execute_result"
    }
   ],
   "source": [
    "agent_executor_w_memory.invoke(\n",
    "    {\"input\": \"How about the competitor?\"},\n",
    "    config={\"configurable\": {\"session_id\": \"abc123\"}},\n",
    ")"
   ]
  },
  {
   "cell_type": "markdown",
   "metadata": {},
   "source": [
    "# Adding Intermediate Steps in Memory"
   ]
  },
  {
   "cell_type": "code",
   "execution_count": 85,
   "metadata": {},
   "outputs": [],
   "source": [
    "from pydantic.v1 import BaseModel, Field, validator\n",
    "from datetime import datetime\n",
    "from langchain_core.tools import StructuredTool\n",
    "from langchain_core.tools import ToolException\n",
    "from langchain_community.chat_message_histories import ChatMessageHistory\n",
    "from langchain_core.runnables.history import RunnableWithMessageHistory\n",
    "from langchain_core.chat_history import BaseChatMessageHistory\n",
    "from langchain_core.prompts import ChatPromptTemplate, MessagesPlaceholder\n",
    "\n",
    "class SearchInput(BaseModel):\n",
    "    stock: str = Field(description=\"Stock ticker to search for\")\n",
    "    \n",
    "    @validator('stock')\n",
    "    def validate_stock(cls, v):\n",
    "        if not v.isalpha() or len(v) > 4:\n",
    "            raise ToolException('Stock ticker should only contain up to 4 alphabetic characters')\n",
    "        return v\n",
    "\n",
    "def get_company_profile(stock:str) -> str:\n",
    "    \"\"\"Get detail profile such as company name, sector name, primary name, number of employees of a stock\"\"\"\n",
    "\n",
    "    api_key = rapid_api_key\n",
    "    url = \"https://seeking-alpha.p.rapidapi.com/symbols/get-profile\"\n",
    "\n",
    "    querystring = {\"symbols\":stock.lower()}\n",
    "\n",
    "    headers = {\n",
    "        \"x-rapidapi-key\": api_key,\n",
    "        \"x-rapidapi-host\": \"seeking-alpha.p.rapidapi.com\"\n",
    "    }\n",
    "\n",
    "    response = requests.get(url, headers=headers, params=querystring)\n",
    "    \n",
    "    if response.status_code == 200:\n",
    "        data = response.json()\n",
    "        result = json.dumps(data)\n",
    "    else:\n",
    "        raise ToolException(f\"No data for {stock}\")\n",
    "    \n",
    "    return result\n",
    "\n",
    "def get_competitors(stock:str) -> str:\n",
    "    \"\"\"Get peers or competitors of a stock\"\"\"\n",
    "\n",
    "    api_key = rapid_api_key\n",
    "    url = \"https://seeking-alpha.p.rapidapi.com/symbols/get-peers\"\n",
    "\n",
    "    querystring = {\"symbol\":stock.lower()}\n",
    "\n",
    "    headers = {\n",
    "        \"x-rapidapi-key\": api_key,\n",
    "        \"x-rapidapi-host\": \"seeking-alpha.p.rapidapi.com\"\n",
    "    }\n",
    "\n",
    "    response = requests.get(url, headers=headers, params=querystring)\n",
    "    \n",
    "    if response.status_code == 200:\n",
    "        data = response.json()\n",
    "        result = json.dumps(data)\n",
    "    else:\n",
    "        raise ToolException(f\"No data for {stock}\")\n",
    "    \n",
    "    return result\n",
    "\n",
    "\n",
    "get_company_profile_tool = StructuredTool.from_function(\n",
    "    func=get_company_profile,\n",
    "    args_schema= SearchInput,\n",
    "    handle_tool_error=True, # add this\n",
    ")\n",
    "\n",
    "get_competitors_tool = StructuredTool.from_function(\n",
    "    func=get_competitors,\n",
    "    args_schema= SearchInput,\n",
    "    handle_tool_error=True, # add this\n",
    ")\n",
    "\n",
    "\n",
    "prompt = ChatPromptTemplate.from_messages([\n",
    "    (\"system\", \"you're a helpful assistant\"),\n",
    "    (\"placeholder\", \"{history}\"), # add this or could be: MessagesPlaceholder(variable_name=\"history\"),\n",
    "    (\"human\", \"{input}\"),\n",
    "    (\"placeholder\", \"{agent_scratchpad}\"),\n",
    "])\n",
    "\n",
    "tools = [get_company_profile_tool, get_competitors_tool]\n",
    "\n",
    "agent = create_tool_calling_agent(llm, tools, prompt)"
   ]
  },
  {
   "cell_type": "markdown",
   "metadata": {},
   "source": [
    "To access intermediate steps, we could add this parameter: return_intermediate_steps=True"
   ]
  },
  {
   "cell_type": "code",
   "execution_count": 86,
   "metadata": {},
   "outputs": [],
   "source": [
    "agent_executor = AgentExecutor(agent=agent, tools=tools, verbose = True,  return_intermediate_steps=True)"
   ]
  },
  {
   "cell_type": "code",
   "execution_count": 87,
   "metadata": {},
   "outputs": [],
   "source": [
    "store = {}\n",
    "\n",
    "def get_session_history(session_id: str) -> BaseChatMessageHistory:\n",
    "    if session_id not in store:\n",
    "        store[session_id] = ChatMessageHistory()\n",
    "    return store[session_id]\n",
    "\n",
    "agent_executor_w_memory = RunnableWithMessageHistory(\n",
    "    agent_executor,\n",
    "    get_session_history,\n",
    "    input_messages_key=\"input\",\n",
    "    history_messages_key=\"history\",\n",
    ")"
   ]
  },
  {
   "cell_type": "code",
   "execution_count": 76,
   "metadata": {},
   "outputs": [
    {
     "name": "stderr",
     "output_type": "stream",
     "text": [
      "Parent run 64cf8aed-fc78-4cbf-a588-f122fd530db9 not found for run 12900f53-a333-4be4-a4c3-b9f139eefdb9. Treating as a root run.\n"
     ]
    },
    {
     "name": "stdout",
     "output_type": "stream",
     "text": [
      "\n",
      "\n",
      "\u001b[1m> Entering new AgentExecutor chain...\u001b[0m\n",
      "\u001b[32;1m\u001b[1;3m\n",
      "Invoking: `get_company_profile` with `{'stock': 'AAPL'}`\n",
      "\n",
      "\n",
      "\u001b[0m\u001b[36;1m\u001b[1;3m{\"data\": [{\"id\": \"AAPL\", \"tickerId\": 146, \"attributes\": {\"longDesc\": \"Apple Inc. designs, manufactures, and markets smartphones, personal computers, tablets, wearables, and accessories worldwide. The company offers iPhone, a line of smartphones; Mac, a line of personal computers; iPad, a line of multi-purpose tablets; and wearables, home, and accessories comprising AirPods, Apple TV, Apple Watch, Beats products, and HomePod. It also provides AppleCare support and cloud services; and operates various platforms, including the App Store that allow customers to discover and download applications and digital content, such as books, music, video, games, and podcasts. In addition, the company offers various services, such as Apple Arcade, a game subscription service; Apple Fitness+, a personalized fitness service; Apple Music, which offers users a curated listening experience with on-demand radio stations; Apple News+, a subscription news and magazine service; Apple TV+, which offers exclusive original content; Apple Card, a co-branded credit card; and Apple Pay, a cashless payment service, as well as licenses its intellectual property. The company serves consumers, and small and mid-sized businesses; and the education, enterprise, and government markets. It distributes third-party applications for its products through the App Store. The company also sells its products through its retail and online stores, and direct sales force; and third-party cellular network carriers, wholesalers, retailers, and resellers. Apple Inc. was founded in 1976 and is headquartered in Cupertino, California.\", \"sectorname\": \"Information Technology\", \"sectorgics\": 45, \"primaryname\": \"Technology Hardware, Storage and Peripherals\", \"primarygics\": 45202030, \"numberOfEmployees\": 161000.0, \"yearfounded\": 1976, \"streetaddress\": \"One Apple Park Way\", \"streetaddress2\": null, \"streetaddress3\": null, \"streetaddress4\": null, \"city\": \"Cupertino\", \"state\": \"CA\", \"zipcode\": \"95014\", \"country\": \"United States\", \"officephonevalue\": \"408 996 1010\", \"webpage\": \"www.apple.com\", \"companyName\": \"Apple Inc.\", \"marketCap\": 3205896523740.0, \"totalEnterprise\": 3148149523740.0, \"totAnalystsRecommendations\": 44.0, \"fy1UpRevisions\": 26.0, \"fy1DownRevisions\": 14.0, \"divYield\": 0.47, \"eps\": 6.454569, \"lastDaily\": {\"rtTime\": \"2024-06-26T19:59:59.910+00:00\", \"rtSource\": \"RealTimeQuote\", \"last\": 213.25, \"open\": 211.5, \"close\": 213.25, \"low\": 210.64, \"high\": 214.86, \"volume\": 66213186, \"volumeAt\": \"2024-06-26T19:59:59.910+00:00\", \"at\": \"2024-06-27T01:30:25.696-04:00\"}, \"estimateEps\": 6.59271, \"debtEq\": 140.9682, \"totDebtCap\": 58.5007, \"ltDebtEquity\": 123.7714, \"ltDebtCap\": 51.3642, \"totLiabTotAssets\": 78.0107, \"impliedMarketCap\": null, \"shortIntPctFloat\": null, \"divTimeFrame\": \"forward\", \"divRate\": 1.0, \"peRatioFwd\": 32.3463340568598, \"lastClosePriceEarningsRatio\": 32.5672366153751, \"estimateFfo\": null, \"ffoPerShareDiluted\": null, \"dilutedEpsExclExtraItems\": null, \"high52\": null, \"low52\": null}}]}\u001b[0m\u001b[32;1m\u001b[1;3mApple Inc. (AAPL) is a technology company that designs, manufactures, and markets smartphones, personal computers, tablets, wearables, and accessories globally. Here are some key details about Apple Inc.:\n",
      "\n",
      "- **Sector:** Information Technology\n",
      "- **Primary Industry:** Technology Hardware, Storage and Peripherals\n",
      "- **Number of Employees:** 161,000\n",
      "- **Year Founded:** 1976\n",
      "- **Headquarters:** Cupertino, California\n",
      "- **Website:** [www.apple.com](www.apple.com)\n",
      "- **Market Cap:** $3,205,896,523,740\n",
      "- **Total Enterprise Value:** $3,148,149,523,740\n",
      "- **Analysts Recommendations:** 44\n",
      "- **EPS (Earnings Per Share):** $6.45\n",
      "- **Current Stock Price:** $213.25\n",
      "- **PE Ratio (Forward):** 32.35\n",
      "- **Dividend Yield:** 0.47%\n",
      "- **Dividend Rate:** $1.00\n",
      "- **Debt to Equity Ratio:** 140.97\n",
      "- **Total Debt to Capital:** 58.50\n",
      "- **Long-Term Debt to Equity:** 123.77\n",
      "- **Long-Term Debt to Capital:** 51.36\n",
      "\n",
      "Apple offers a range of products and services including iPhone, Mac, iPad, wearables, home accessories, AppleCare support, cloud services, and various subscription services like Apple Arcade, Apple Fitness+, Apple Music, Apple News+, and Apple TV+. The company serves consumers, businesses, education, enterprise, and government markets.\n",
      "\n",
      "If you would like to know more about Apple Inc. or have any specific questions, feel free to ask!\u001b[0m\n",
      "\n",
      "\u001b[1m> Finished chain.\u001b[0m\n"
     ]
    }
   ],
   "source": [
    "result = agent_executor_w_memory.invoke(\n",
    "    {\"input\": \"Tell me about AAPL\"},\n",
    "    config={\"configurable\": {\"session_id\": \"abc123\"}},\n",
    ")"
   ]
  },
  {
   "cell_type": "code",
   "execution_count": 77,
   "metadata": {},
   "outputs": [
    {
     "data": {
      "text/plain": [
       "{'input': 'Tell me about AAPL',\n",
       " 'history': [],\n",
       " 'output': 'Apple Inc. (AAPL) is a technology company that designs, manufactures, and markets smartphones, personal computers, tablets, wearables, and accessories globally. Here are some key details about Apple Inc.:\\n\\n- **Sector:** Information Technology\\n- **Primary Industry:** Technology Hardware, Storage and Peripherals\\n- **Number of Employees:** 161,000\\n- **Year Founded:** 1976\\n- **Headquarters:** Cupertino, California\\n- **Website:** [www.apple.com](www.apple.com)\\n- **Market Cap:** $3,205,896,523,740\\n- **Total Enterprise Value:** $3,148,149,523,740\\n- **Analysts Recommendations:** 44\\n- **EPS (Earnings Per Share):** $6.45\\n- **Current Stock Price:** $213.25\\n- **PE Ratio (Forward):** 32.35\\n- **Dividend Yield:** 0.47%\\n- **Dividend Rate:** $1.00\\n- **Debt to Equity Ratio:** 140.97\\n- **Total Debt to Capital:** 58.50\\n- **Long-Term Debt to Equity:** 123.77\\n- **Long-Term Debt to Capital:** 51.36\\n\\nApple offers a range of products and services including iPhone, Mac, iPad, wearables, home accessories, AppleCare support, cloud services, and various subscription services like Apple Arcade, Apple Fitness+, Apple Music, Apple News+, and Apple TV+. The company serves consumers, businesses, education, enterprise, and government markets.\\n\\nIf you would like to know more about Apple Inc. or have any specific questions, feel free to ask!',\n",
       " 'intermediate_steps': [(ToolAgentAction(tool='get_company_profile', tool_input={'stock': 'AAPL'}, log=\"\\nInvoking: `get_company_profile` with `{'stock': 'AAPL'}`\\n\\n\\n\", message_log=[AIMessageChunk(content='', additional_kwargs={'tool_calls': [{'index': 0, 'id': 'call_7zWQPpNGoZxPr0xUNioE4sdd', 'function': {'arguments': '{\"stock\":\"AAPL\"}', 'name': 'get_company_profile'}, 'type': 'function'}]}, response_metadata={'finish_reason': 'tool_calls', 'model_name': 'gpt-3.5-turbo-0125'}, id='run-4f256b65-a8ab-4bc3-bf1f-93ff7aee3075', tool_calls=[{'name': 'get_company_profile', 'args': {'stock': 'AAPL'}, 'id': 'call_7zWQPpNGoZxPr0xUNioE4sdd'}], tool_call_chunks=[{'name': 'get_company_profile', 'args': '{\"stock\":\"AAPL\"}', 'id': 'call_7zWQPpNGoZxPr0xUNioE4sdd', 'index': 0}])], tool_call_id='call_7zWQPpNGoZxPr0xUNioE4sdd'),\n",
       "   '{\"data\": [{\"id\": \"AAPL\", \"tickerId\": 146, \"attributes\": {\"longDesc\": \"Apple Inc. designs, manufactures, and markets smartphones, personal computers, tablets, wearables, and accessories worldwide. The company offers iPhone, a line of smartphones; Mac, a line of personal computers; iPad, a line of multi-purpose tablets; and wearables, home, and accessories comprising AirPods, Apple TV, Apple Watch, Beats products, and HomePod. It also provides AppleCare support and cloud services; and operates various platforms, including the App Store that allow customers to discover and download applications and digital content, such as books, music, video, games, and podcasts. In addition, the company offers various services, such as Apple Arcade, a game subscription service; Apple Fitness+, a personalized fitness service; Apple Music, which offers users a curated listening experience with on-demand radio stations; Apple News+, a subscription news and magazine service; Apple TV+, which offers exclusive original content; Apple Card, a co-branded credit card; and Apple Pay, a cashless payment service, as well as licenses its intellectual property. The company serves consumers, and small and mid-sized businesses; and the education, enterprise, and government markets. It distributes third-party applications for its products through the App Store. The company also sells its products through its retail and online stores, and direct sales force; and third-party cellular network carriers, wholesalers, retailers, and resellers. Apple Inc. was founded in 1976 and is headquartered in Cupertino, California.\", \"sectorname\": \"Information Technology\", \"sectorgics\": 45, \"primaryname\": \"Technology Hardware, Storage and Peripherals\", \"primarygics\": 45202030, \"numberOfEmployees\": 161000.0, \"yearfounded\": 1976, \"streetaddress\": \"One Apple Park Way\", \"streetaddress2\": null, \"streetaddress3\": null, \"streetaddress4\": null, \"city\": \"Cupertino\", \"state\": \"CA\", \"zipcode\": \"95014\", \"country\": \"United States\", \"officephonevalue\": \"408 996 1010\", \"webpage\": \"www.apple.com\", \"companyName\": \"Apple Inc.\", \"marketCap\": 3205896523740.0, \"totalEnterprise\": 3148149523740.0, \"totAnalystsRecommendations\": 44.0, \"fy1UpRevisions\": 26.0, \"fy1DownRevisions\": 14.0, \"divYield\": 0.47, \"eps\": 6.454569, \"lastDaily\": {\"rtTime\": \"2024-06-26T19:59:59.910+00:00\", \"rtSource\": \"RealTimeQuote\", \"last\": 213.25, \"open\": 211.5, \"close\": 213.25, \"low\": 210.64, \"high\": 214.86, \"volume\": 66213186, \"volumeAt\": \"2024-06-26T19:59:59.910+00:00\", \"at\": \"2024-06-27T01:30:25.696-04:00\"}, \"estimateEps\": 6.59271, \"debtEq\": 140.9682, \"totDebtCap\": 58.5007, \"ltDebtEquity\": 123.7714, \"ltDebtCap\": 51.3642, \"totLiabTotAssets\": 78.0107, \"impliedMarketCap\": null, \"shortIntPctFloat\": null, \"divTimeFrame\": \"forward\", \"divRate\": 1.0, \"peRatioFwd\": 32.3463340568598, \"lastClosePriceEarningsRatio\": 32.5672366153751, \"estimateFfo\": null, \"ffoPerShareDiluted\": null, \"dilutedEpsExclExtraItems\": null, \"high52\": null, \"low52\": null}}]}')]}"
      ]
     },
     "execution_count": 77,
     "metadata": {},
     "output_type": "execute_result"
    }
   ],
   "source": [
    "result"
   ]
  },
  {
   "cell_type": "markdown",
   "metadata": {},
   "source": [
    "As you can see, after we set return_intermediate_steps parameter to True, we could see the intermediate_steps which contains response from API. To access this and store into the memory, we need format_to_openai_functions to translate this into a message (FunctionMessage)"
   ]
  },
  {
   "cell_type": "code",
   "execution_count": 79,
   "metadata": {},
   "outputs": [
    {
     "data": {
      "text/plain": [
       "[AIMessageChunk(content='', additional_kwargs={'tool_calls': [{'index': 0, 'id': 'call_7zWQPpNGoZxPr0xUNioE4sdd', 'function': {'arguments': '{\"stock\":\"AAPL\"}', 'name': 'get_company_profile'}, 'type': 'function'}]}, response_metadata={'finish_reason': 'tool_calls', 'model_name': 'gpt-3.5-turbo-0125'}, id='run-4f256b65-a8ab-4bc3-bf1f-93ff7aee3075', tool_calls=[{'name': 'get_company_profile', 'args': {'stock': 'AAPL'}, 'id': 'call_7zWQPpNGoZxPr0xUNioE4sdd'}], tool_call_chunks=[{'name': 'get_company_profile', 'args': '{\"stock\":\"AAPL\"}', 'id': 'call_7zWQPpNGoZxPr0xUNioE4sdd', 'index': 0}]),\n",
       " FunctionMessage(content='{\"data\": [{\"id\": \"AAPL\", \"tickerId\": 146, \"attributes\": {\"longDesc\": \"Apple Inc. designs, manufactures, and markets smartphones, personal computers, tablets, wearables, and accessories worldwide. The company offers iPhone, a line of smartphones; Mac, a line of personal computers; iPad, a line of multi-purpose tablets; and wearables, home, and accessories comprising AirPods, Apple TV, Apple Watch, Beats products, and HomePod. It also provides AppleCare support and cloud services; and operates various platforms, including the App Store that allow customers to discover and download applications and digital content, such as books, music, video, games, and podcasts. In addition, the company offers various services, such as Apple Arcade, a game subscription service; Apple Fitness+, a personalized fitness service; Apple Music, which offers users a curated listening experience with on-demand radio stations; Apple News+, a subscription news and magazine service; Apple TV+, which offers exclusive original content; Apple Card, a co-branded credit card; and Apple Pay, a cashless payment service, as well as licenses its intellectual property. The company serves consumers, and small and mid-sized businesses; and the education, enterprise, and government markets. It distributes third-party applications for its products through the App Store. The company also sells its products through its retail and online stores, and direct sales force; and third-party cellular network carriers, wholesalers, retailers, and resellers. Apple Inc. was founded in 1976 and is headquartered in Cupertino, California.\", \"sectorname\": \"Information Technology\", \"sectorgics\": 45, \"primaryname\": \"Technology Hardware, Storage and Peripherals\", \"primarygics\": 45202030, \"numberOfEmployees\": 161000.0, \"yearfounded\": 1976, \"streetaddress\": \"One Apple Park Way\", \"streetaddress2\": null, \"streetaddress3\": null, \"streetaddress4\": null, \"city\": \"Cupertino\", \"state\": \"CA\", \"zipcode\": \"95014\", \"country\": \"United States\", \"officephonevalue\": \"408 996 1010\", \"webpage\": \"www.apple.com\", \"companyName\": \"Apple Inc.\", \"marketCap\": 3205896523740.0, \"totalEnterprise\": 3148149523740.0, \"totAnalystsRecommendations\": 44.0, \"fy1UpRevisions\": 26.0, \"fy1DownRevisions\": 14.0, \"divYield\": 0.47, \"eps\": 6.454569, \"lastDaily\": {\"rtTime\": \"2024-06-26T19:59:59.910+00:00\", \"rtSource\": \"RealTimeQuote\", \"last\": 213.25, \"open\": 211.5, \"close\": 213.25, \"low\": 210.64, \"high\": 214.86, \"volume\": 66213186, \"volumeAt\": \"2024-06-26T19:59:59.910+00:00\", \"at\": \"2024-06-27T01:30:25.696-04:00\"}, \"estimateEps\": 6.59271, \"debtEq\": 140.9682, \"totDebtCap\": 58.5007, \"ltDebtEquity\": 123.7714, \"ltDebtCap\": 51.3642, \"totLiabTotAssets\": 78.0107, \"impliedMarketCap\": null, \"shortIntPctFloat\": null, \"divTimeFrame\": \"forward\", \"divRate\": 1.0, \"peRatioFwd\": 32.3463340568598, \"lastClosePriceEarningsRatio\": 32.5672366153751, \"estimateFfo\": null, \"ffoPerShareDiluted\": null, \"dilutedEpsExclExtraItems\": null, \"high52\": null, \"low52\": null}}]}', name='get_company_profile')]"
      ]
     },
     "execution_count": 79,
     "metadata": {},
     "output_type": "execute_result"
    }
   ],
   "source": [
    "from langchain.agents.format_scratchpad import format_to_openai_functions\n",
    "intermediate_steps = format_to_openai_functions(result['intermediate_steps'])\n",
    "intermediate_steps"
   ]
  },
  {
   "cell_type": "code",
   "execution_count": 83,
   "metadata": {},
   "outputs": [
    {
     "name": "stderr",
     "output_type": "stream",
     "text": [
      "Parent run c458ba97-bf30-4629-b3ac-b6b383187d4c not found for run 477cfbb9-0f13-47f1-87b7-2e5cd1e7796f. Treating as a root run.\n"
     ]
    },
    {
     "name": "stdout",
     "output_type": "stream",
     "text": [
      "\n",
      "\n",
      "\u001b[1m> Entering new AgentExecutor chain...\u001b[0m\n",
      "\u001b[32;1m\u001b[1;3m\n",
      "Invoking: `get_company_profile` with `{'stock': 'AAPL'}`\n",
      "\n",
      "\n",
      "\u001b[0m\u001b[36;1m\u001b[1;3m{\"data\": [{\"id\": \"AAPL\", \"tickerId\": 146, \"attributes\": {\"longDesc\": \"Apple Inc. designs, manufactures, and markets smartphones, personal computers, tablets, wearables, and accessories worldwide. The company offers iPhone, a line of smartphones; Mac, a line of personal computers; iPad, a line of multi-purpose tablets; and wearables, home, and accessories comprising AirPods, Apple TV, Apple Watch, Beats products, and HomePod. It also provides AppleCare support and cloud services; and operates various platforms, including the App Store that allow customers to discover and download applications and digital content, such as books, music, video, games, and podcasts. In addition, the company offers various services, such as Apple Arcade, a game subscription service; Apple Fitness+, a personalized fitness service; Apple Music, which offers users a curated listening experience with on-demand radio stations; Apple News+, a subscription news and magazine service; Apple TV+, which offers exclusive original content; Apple Card, a co-branded credit card; and Apple Pay, a cashless payment service, as well as licenses its intellectual property. The company serves consumers, and small and mid-sized businesses; and the education, enterprise, and government markets. It distributes third-party applications for its products through the App Store. The company also sells its products through its retail and online stores, and direct sales force; and third-party cellular network carriers, wholesalers, retailers, and resellers. Apple Inc. was founded in 1976 and is headquartered in Cupertino, California.\", \"sectorname\": \"Information Technology\", \"sectorgics\": 45, \"primaryname\": \"Technology Hardware, Storage and Peripherals\", \"primarygics\": 45202030, \"numberOfEmployees\": 161000.0, \"yearfounded\": 1976, \"streetaddress\": \"One Apple Park Way\", \"streetaddress2\": null, \"streetaddress3\": null, \"streetaddress4\": null, \"city\": \"Cupertino\", \"state\": \"CA\", \"zipcode\": \"95014\", \"country\": \"United States\", \"officephonevalue\": \"408 996 1010\", \"webpage\": \"www.apple.com\", \"companyName\": \"Apple Inc.\", \"marketCap\": 3205896523740.0, \"totalEnterprise\": 3148149523740.0, \"totAnalystsRecommendations\": 44.0, \"fy1UpRevisions\": 26.0, \"fy1DownRevisions\": 14.0, \"divYield\": 0.47, \"eps\": 6.454569, \"lastDaily\": {\"rtTime\": \"2024-06-26T19:59:59.910+00:00\", \"rtSource\": \"RealTimeQuote\", \"last\": 213.25, \"open\": 211.5, \"close\": 213.25, \"low\": 210.64, \"high\": 214.86, \"volume\": 66213186, \"volumeAt\": \"2024-06-26T19:59:59.910+00:00\", \"at\": \"2024-06-27T01:30:25.696-04:00\"}, \"estimateEps\": 6.59271, \"debtEq\": 140.9682, \"totDebtCap\": 58.5007, \"ltDebtEquity\": 123.7714, \"ltDebtCap\": 51.3642, \"totLiabTotAssets\": 78.0107, \"impliedMarketCap\": null, \"shortIntPctFloat\": null, \"divTimeFrame\": \"forward\", \"divRate\": 1.0, \"peRatioFwd\": 32.3463340568598, \"lastClosePriceEarningsRatio\": 32.5672366153751, \"estimateFfo\": null, \"ffoPerShareDiluted\": null, \"dilutedEpsExclExtraItems\": null, \"high52\": null, \"low52\": null}}]}\u001b[0m\u001b[32;1m\u001b[1;3mApple Inc. (AAPL) is a leading technology company that designs, manufactures, and markets smartphones, personal computers, tablets, wearables, and accessories worldwide. Here are some key details about Apple Inc.:\n",
      "\n",
      "- **Sector:** Information Technology\n",
      "- **Primary Industry:** Technology Hardware, Storage and Peripherals\n",
      "- **Number of Employees:** 161,000\n",
      "- **Year Founded:** 1976\n",
      "- **Headquarters:** Cupertino, California\n",
      "- **Website:** [www.apple.com](www.apple.com)\n",
      "- **Market Cap:** $3,205,896,523,740\n",
      "- **Total Enterprise Value:** $3,148,149,523,740\n",
      "- **Analysts Recommendations:** 44\n",
      "- **EPS (Earnings Per Share):** $6.45\n",
      "- **Current Stock Price:** $213.25\n",
      "- **PE Ratio (Forward):** 32.35\n",
      "- **Dividend Yield:** 0.47%\n",
      "- **Dividend Rate:** $1.00\n",
      "- **Debt to Equity Ratio:** 140.97\n",
      "- **Total Debt to Capital:** 58.50\n",
      "- **Long-Term Debt to Equity:** 123.77\n",
      "- **Long-Term Debt to Capital:** 51.36\n",
      "\n",
      "Apple offers a wide range of products and services, including the iPhone, Mac, iPad, wearables, home accessories, AppleCare support, cloud services, and various subscription services like Apple Arcade, Apple Fitness+, Apple Music, Apple News+, and Apple TV+. The company serves consumers, small and mid-sized businesses, education, enterprise, and government markets.\n",
      "\n",
      "If you have any more questions about Apple Inc. or would like to know about its competitors, feel free to ask!\u001b[0m\n",
      "\n",
      "\u001b[1m> Finished chain.\u001b[0m\n"
     ]
    }
   ],
   "source": [
    "result = agent_executor_w_memory.invoke(\n",
    "    {\"input\": \"Tell me about AAPL\"},\n",
    "    config={\"configurable\": {\"session_id\": \"abc123\"}},\n",
    ")\n",
    "\n",
    "history = get_session_history(\"abc123\")\n",
    "intermediate_steps = format_to_openai_functions(result['intermediate_steps'])\n",
    "\n",
    "if len(intermediate_steps) > 0:\n",
    "    history.add_message(intermediate_steps[1])"
   ]
  },
  {
   "cell_type": "code",
   "execution_count": 84,
   "metadata": {},
   "outputs": [
    {
     "name": "stderr",
     "output_type": "stream",
     "text": [
      "Parent run fa5dda12-ed84-4985-a48e-542ed3c70806 not found for run c1207dc3-ed79-4813-8969-78bc6af15f75. Treating as a root run.\n"
     ]
    },
    {
     "name": "stdout",
     "output_type": "stream",
     "text": [
      "\n",
      "\n",
      "\u001b[1m> Entering new AgentExecutor chain...\u001b[0m\n",
      "\u001b[32;1m\u001b[1;3mThe headquarters of Apple Inc. is located at One Apple Park Way, Cupertino, California, 95014, United States.\u001b[0m\n",
      "\n",
      "\u001b[1m> Finished chain.\u001b[0m\n"
     ]
    }
   ],
   "source": [
    "result = agent_executor_w_memory.invoke(\n",
    "    {\"input\": \"Where is the headquarters located?\"},\n",
    "    config={\"configurable\": {\"session_id\": \"abc123\"}},\n",
    ")\n",
    "\n",
    "history = get_session_history(\"abc123\")\n",
    "intermediate_steps = format_to_openai_functions(result['intermediate_steps'])\n",
    "\n",
    "if len(intermediate_steps) > 0:\n",
    "    history.add_message(intermediate_steps[1])"
   ]
  },
  {
   "cell_type": "markdown",
   "metadata": {},
   "source": [
    "Conclusion:\n",
    "\n",
    "1. The agent understands that the context here is AAPL\n",
    "2. Since we've saved the API response in memory, instead of calling the API again, it retrieves what was stored previously!"
   ]
  },
  {
   "cell_type": "markdown",
   "metadata": {},
   "source": [
    "# Demo Final Chatbot using Chainlit"
   ]
  }
 ],
 "metadata": {
  "kernelspec": {
   "display_name": "venv",
   "language": "python",
   "name": "python3"
  },
  "language_info": {
   "codemirror_mode": {
    "name": "ipython",
    "version": 3
   },
   "file_extension": ".py",
   "mimetype": "text/x-python",
   "name": "python",
   "nbconvert_exporter": "python",
   "pygments_lexer": "ipython3",
   "version": "3.10.11"
  }
 },
 "nbformat": 4,
 "nbformat_minor": 2
}
